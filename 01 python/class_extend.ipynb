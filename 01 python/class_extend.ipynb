{
 "cells": [
  {
   "cell_type": "code",
   "execution_count": null,
   "metadata": {},
   "outputs": [],
   "source": [
    "# java private X => \n",
    "class PrivateExam:\n",
    "    __num1 = 4 # private\n",
    "    num2 = 5 # public"
   ]
  },
  {
   "cell_type": "code",
   "execution_count": null,
   "metadata": {},
   "outputs": [],
   "source": [
    "a = PrivateExam()\n",
    "#a.num1, a.num2"
   ]
  },
  {
   "cell_type": "code",
   "execution_count": null,
   "metadata": {},
   "outputs": [],
   "source": [
    "# static method, class method 같지 않다.\n",
    "\n",
    "class StaticExam:\n",
    "    # object method : self\n",
    "    def add_object_method(self, a,b):\n",
    "        return a + b\n",
    "    \n",
    "    @staticmethod\n",
    "    def add_static_method(a,b):\n",
    "        return a + b\n",
    "    \n",
    "    @classmethod\n",
    "    def add_class_method(cls, a,b):\n",
    "        return a + b"
   ]
  },
  {
   "cell_type": "code",
   "execution_count": null,
   "metadata": {},
   "outputs": [],
   "source": [
    "StaticExam.add_static_method(3,4)"
   ]
  },
  {
   "cell_type": "code",
   "execution_count": null,
   "metadata": {},
   "outputs": [],
   "source": [
    "# 추상클래스\n",
    "from abc import *\n",
    "\n",
    "class AbstractClass(metaclass=ABCMeta):\n",
    "    \n",
    "    @abstractmethod\n",
    "    def aMethod(self):\n",
    "        pass"
   ]
  },
  {
   "cell_type": "code",
   "execution_count": null,
   "metadata": {},
   "outputs": [],
   "source": [
    "class Test(AbstractClass):\n",
    "    def aMethod(self):\n",
    "        print(\"success!!!\")"
   ]
  },
  {
   "cell_type": "code",
   "execution_count": null,
   "metadata": {},
   "outputs": [],
   "source": [
    "a = Test()\n",
    "a.aMethod()"
   ]
  },
  {
   "cell_type": "code",
   "execution_count": null,
   "metadata": {},
   "outputs": [],
   "source": [
    "# getter, setter 처리\n",
    "\n",
    "class Person:\n",
    "    def __init__(self) -> None:\n",
    "        self.__age = 0 # object attr, private\n",
    "\n",
    "    def getAge(self): # getter\n",
    "        return self.__age\n",
    "    \n",
    "    def setAge(self, age): # setter\n",
    "        self.__age = age"
   ]
  },
  {
   "cell_type": "code",
   "execution_count": null,
   "metadata": {},
   "outputs": [],
   "source": [
    "a = Person()\n",
    "a.setAge(20)\n",
    "a.getAge()"
   ]
  },
  {
   "cell_type": "code",
   "execution_count": null,
   "metadata": {},
   "outputs": [],
   "source": [
    "# getter, setter 처리\n",
    "\n",
    "class Person:\n",
    "    def __init__(self) -> None:\n",
    "        self.__age = 0 # object attr, private\n",
    "\n",
    "    # getter\n",
    "    @property\n",
    "    def age(self):    \n",
    "        return self.__age\n",
    "    \n",
    "    # setter\n",
    "    @age.setter\n",
    "    def age(self, age):\n",
    "        self.__age = age"
   ]
  },
  {
   "cell_type": "code",
   "execution_count": null,
   "metadata": {},
   "outputs": [],
   "source": [
    "pey = Person()\n",
    "pey.age=20\n",
    "print(pey.age)"
   ]
  },
  {
   "cell_type": "code",
   "execution_count": 16,
   "metadata": {},
   "outputs": [],
   "source": [
    "# 클래스 설명 확장\n",
    "# 1. class attr vs. object attr\n",
    "class Flight:\n",
    "    class_attr = [] # class attr => Flight.class_attr\n",
    "\n",
    "    def __init__(self):\n",
    "        self.class_attr = [] # object attr\n",
    "\n",
    "    def add_class_attr(self, number):\n",
    "        Flight.class_attr.append(number)\n",
    "\n",
    "    def add_object_class_attr(self, number):\n",
    "        self.class_attr.append(number)\n"
   ]
  },
  {
   "cell_type": "code",
   "execution_count": 17,
   "metadata": {},
   "outputs": [],
   "source": [
    "f = Flight()\n",
    "g = Flight()"
   ]
  },
  {
   "cell_type": "code",
   "execution_count": 54,
   "metadata": {},
   "outputs": [
    {
     "data": {
      "text/plain": [
       "([7, 7, 7, 7, 7, 7, 7], [7, 7, 7, 7, 7, 7, 7, 7])"
      ]
     },
     "execution_count": 54,
     "metadata": {},
     "output_type": "execute_result"
    }
   ],
   "source": [
    "# Flight.class_attr.append(number)\n",
    "f.add_class_attr(5)\n",
    "\n",
    "# self.class_attr\n",
    "f.class_attr, g.class_attr"
   ]
  },
  {
   "cell_type": "code",
   "execution_count": 34,
   "metadata": {},
   "outputs": [
    {
     "data": {
      "text/plain": [
       "([7, 7, 7, 7, 7, 7], [7, 7, 7, 7, 7, 7, 7, 7])"
      ]
     },
     "execution_count": 34,
     "metadata": {},
     "output_type": "execute_result"
    }
   ],
   "source": [
    "g.add_object_class_attr(7)\n",
    "f.class_attr, g.class_attr"
   ]
  },
  {
   "cell_type": "code",
   "execution_count": 35,
   "metadata": {},
   "outputs": [
    {
     "data": {
      "text/plain": [
       "([7, 7, 7, 7, 7, 7, 7], [7, 7, 7, 7, 7, 7, 7, 7])"
      ]
     },
     "execution_count": 35,
     "metadata": {},
     "output_type": "execute_result"
    }
   ],
   "source": [
    "f.add_object_class_attr(7)\n",
    "f.class_attr, g.class_attr"
   ]
  }
 ],
 "metadata": {
  "kernelspec": {
   "display_name": "test",
   "language": "python",
   "name": "python3"
  },
  "language_info": {
   "codemirror_mode": {
    "name": "ipython",
    "version": 3
   },
   "file_extension": ".py",
   "mimetype": "text/x-python",
   "name": "python",
   "nbconvert_exporter": "python",
   "pygments_lexer": "ipython3",
   "version": "3.10.10"
  },
  "orig_nbformat": 4
 },
 "nbformat": 4,
 "nbformat_minor": 2
}
