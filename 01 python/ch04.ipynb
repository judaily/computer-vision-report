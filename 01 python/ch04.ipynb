{
 "cells": [
  {
   "cell_type": "code",
   "execution_count": 4,
   "metadata": {},
   "outputs": [
    {
     "name": "stdout",
     "output_type": "stream",
     "text": [
      "1 김정수 2017-01-19 25 2 박민구 2017-02-27 35 3 정순미 2017-03-22 33 "
     ]
    }
   ],
   "source": [
    "# csv 파일 읽기, 출력\n",
    "import csv # csv module\n",
    "\n",
    "f = open('./data.csv','r')\n",
    "rdr = csv.reader(f)\n",
    "\n",
    "for line in rdr: # rdr => [[],[],[]]\n",
    "    #print(line)\n",
    "    for s in line: # [] => s\n",
    "        print(s, end=' ')\n",
    "\n",
    "f.close()\n",
    "# 1,김정수,2017-01-19,25\n",
    "# 2,박민구,2017-02-27,35\n",
    "# 3,정순미,2017-03-22,33"
   ]
  }
 ],
 "metadata": {
  "kernelspec": {
   "display_name": "test",
   "language": "python",
   "name": "python3"
  },
  "language_info": {
   "codemirror_mode": {
    "name": "ipython",
    "version": 3
   },
   "file_extension": ".py",
   "mimetype": "text/x-python",
   "name": "python",
   "nbconvert_exporter": "python",
   "pygments_lexer": "ipython3",
   "version": "3.10.10"
  },
  "orig_nbformat": 4
 },
 "nbformat": 4,
 "nbformat_minor": 2
}
