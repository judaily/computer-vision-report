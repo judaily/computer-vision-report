{
 "cells": [
  {
   "cell_type": "code",
   "execution_count": 8,
   "metadata": {},
   "outputs": [],
   "source": [
    "# class define : 클래스를 선언\n",
    "class Service:\n",
    "    # static variable : object들이 공유 attribute(변수)\n",
    "    secret = '영구는 외계인이다.' \n",
    "    # method\n",
    "    def sum(a,b): # 더하기하는 static 메소드\n",
    "        return a + b\n",
    "    def add(self, a,b): # self => object 접근 가능해지고 멤버 메소드된다.\n",
    "        # 멤버 변수에 저장\n",
    "        self.a = a\n",
    "        self.b = b\n",
    "        self.result = self.a + self.b\n",
    "        return self.result\n",
    "    def resultPrint(self):\n",
    "        print(self.result)"
   ]
  },
  {
   "cell_type": "code",
   "execution_count": 9,
   "metadata": {},
   "outputs": [
    {
     "name": "stdout",
     "output_type": "stream",
     "text": [
      "3\n"
     ]
    }
   ],
   "source": [
    "pey = Service()\n",
    "pey.add(1,2)\n",
    "pey.resultPrint()"
   ]
  },
  {
   "cell_type": "code",
   "execution_count": 10,
   "metadata": {},
   "outputs": [],
   "source": [
    "# object 2개 생성\n",
    "pey = Service()\n",
    "hong = Service()"
   ]
  },
  {
   "cell_type": "code",
   "execution_count": 11,
   "metadata": {},
   "outputs": [],
   "source": [
    "Service.secret = '영구는 도깨비다' # setting"
   ]
  },
  {
   "cell_type": "code",
   "execution_count": 12,
   "metadata": {},
   "outputs": [
    {
     "name": "stdout",
     "output_type": "stream",
     "text": [
      "영구는 도깨비다\n",
      "영구는 도깨비다\n",
      "영구는 도깨비다\n"
     ]
    }
   ],
   "source": [
    "print(pey.secret)\n",
    "print(hong.secret)\n",
    "print(Service.secret)"
   ]
  },
  {
   "cell_type": "code",
   "execution_count": 13,
   "metadata": {},
   "outputs": [],
   "source": [
    "# static method \n",
    "# 1. Service.sum(1,2) static method\n",
    "# 2. pey.sum(1,2) error\n",
    "# member method \n",
    "# def add(self, a,b)\n",
    "# pey.add(1,2)\n",
    "# Service.add(1,2) error\n",
    "# Service.add(pey,1,2) OK"
   ]
  },
  {
   "cell_type": "code",
   "execution_count": 14,
   "metadata": {},
   "outputs": [],
   "source": [
    "# class define : 클래스를 선언\n",
    "class Service:\n",
    "    # a, b attribute 생성, 초기화\n",
    "    def __init__(self, a, b) -> None: # 생성자 역할 => Service(1,2)\n",
    "        self.a = a\n",
    "        self.b = b\n",
    "    secret = '영구는 외계인이다.'\n",
    "\n",
    "    def setab(self,a,b): # set method : 중간 값을 변경하고자 할 때\n",
    "        self.a = a\n",
    "        self.b = b\n",
    "\n",
    "    def sum(self): \n",
    "        return self.a + self.b"
   ]
  },
  {
   "cell_type": "code",
   "execution_count": 15,
   "metadata": {},
   "outputs": [
    {
     "data": {
      "text/plain": [
       "3"
      ]
     },
     "execution_count": 15,
     "metadata": {},
     "output_type": "execute_result"
    }
   ],
   "source": [
    "hong = Service(1,2) # Object 생성할 때 초기화 => 생성자\n",
    "# hong.setab(1,2) -> 실행 중 변경해야 하는 목적\n",
    "hong.sum()"
   ]
  },
  {
   "cell_type": "code",
   "execution_count": 16,
   "metadata": {},
   "outputs": [],
   "source": [
    "# class define : 클래스를 선언\n",
    "class Service:\n",
    "    # a, b attribute 생성, 초기화\n",
    "    def __init__(self, name) -> None: # 생성자 역할 => Service(1,2)\n",
    "       self.name = name\n",
    "\n",
    "    def sum(self, a,b):\n",
    "        result = a + b # result 지역변수\n",
    "        print(f'{self.name}님 {result}')\n",
    "        # return None # 이 코드가 추가된다."
   ]
  },
  {
   "cell_type": "code",
   "execution_count": 17,
   "metadata": {},
   "outputs": [
    {
     "name": "stdout",
     "output_type": "stream",
     "text": [
      "홍길동님 3\n",
      "None\n",
      "고길동님 7\n",
      "None\n"
     ]
    }
   ],
   "source": [
    "hong = Service('홍길동') # Object 생성할 때 초기화 => 생성자\n",
    "# hong.setab(1,2) -> 실행 중 변경해야 하는 목적\n",
    "print(hong.sum(1,2))\n",
    "go = Service('고길동')\n",
    "print(go.sum(3,4))"
   ]
  },
  {
   "cell_type": "code",
   "execution_count": 18,
   "metadata": {},
   "outputs": [],
   "source": [
    "# 사칙연산 클래스\n",
    "# 변수 두개 필요 => 저장 => object에 공간 생성\n",
    "class FourCal: # Object class 상속받은 것이다.\n",
    "    # 사칙연산 => 이항 연산 => 변수 두개 필요\n",
    "    def setData(self, first, second) -> None:\n",
    "        self.first = first\n",
    "        self.second = second\n",
    "        # return None"
   ]
  },
  {
   "cell_type": "code",
   "execution_count": 19,
   "metadata": {},
   "outputs": [],
   "source": [
    "a = FourCal() # __new__() 호출하고 => 안에서 __init__() 오버라이딩 : 초기화\n",
    "b = FourCal()\n",
    "# a.setData(1,2)\n",
    "# b.setData(3,4)\n",
    "FourCal.setData(a,1,2) # a : 해당 object 주소, 1,2 \n",
    "FourCal.setData(b,3,4) # b : 해당 object 주소, 3,4"
   ]
  },
  {
   "cell_type": "code",
   "execution_count": 20,
   "metadata": {},
   "outputs": [
    {
     "data": {
      "text/plain": [
       "(1, 2, 3, 4)"
      ]
     },
     "execution_count": 20,
     "metadata": {},
     "output_type": "execute_result"
    }
   ],
   "source": [
    "a.first, a.second, b.first, b.second"
   ]
  },
  {
   "cell_type": "code",
   "execution_count": 21,
   "metadata": {},
   "outputs": [],
   "source": [
    "# 더하기 추가\n",
    "class FourCal: # Object class 상속받은 것이다.\n",
    "    # 사칙연산 => 이항 연산 => 변수 두개 필요\n",
    "    def setData(self, first, second) -> None:\n",
    "        self.first = first\n",
    "        self.second = second\n",
    "        # return None\n",
    "\n",
    "    def sum(self): # 해당 object에 있는 값들 접근해서 더하기\n",
    "        result = self.first + self.second\n",
    "        return result"
   ]
  },
  {
   "cell_type": "code",
   "execution_count": 22,
   "metadata": {},
   "outputs": [],
   "source": [
    "# 곱하기, 빼기, 나누기 추가\n",
    "class FourCal: # Object class 상속받은 것이다.\n",
    "    # 사칙연산 => 이항 연산 => 변수 두개 필요\n",
    "    def setData(self, first, second) -> None:\n",
    "        self.first = first\n",
    "        self.second = second\n",
    "        # return None\n",
    "\n",
    "    def sum(self): # 해당 object에 있는 값들 접근해서 더하기\n",
    "        result = self.first + self.second\n",
    "        return result\n",
    "\n",
    "    def mul(self):\n",
    "        result = self.first * self.second\n",
    "        return result\n",
    "    \n",
    "    def sub(self):\n",
    "        result = self.first - self.second\n",
    "        return result\n",
    "    \n",
    "    def div(self):\n",
    "        result = self.first / self.second\n",
    "        return result"
   ]
  },
  {
   "cell_type": "code",
   "execution_count": 23,
   "metadata": {},
   "outputs": [],
   "source": [
    "a = FourCal()\n",
    "b = FourCal()\n",
    "a.setData(4,2)\n",
    "b.setData(3,7)"
   ]
  },
  {
   "cell_type": "code",
   "execution_count": 24,
   "metadata": {},
   "outputs": [
    {
     "name": "stdout",
     "output_type": "stream",
     "text": [
      "6 8 2 2.0\n",
      "21 21 -4 0.42857142857142855\n"
     ]
    }
   ],
   "source": [
    "print(a.sum(), a.mul(), a.sub(), a.div())\n",
    "print(b.mul(), b.mul(), b.sub(), b.div())"
   ]
  },
  {
   "cell_type": "code",
   "execution_count": 25,
   "metadata": {},
   "outputs": [],
   "source": [
    "# 박씨네 집\n",
    "class HousePark:\n",
    "    lastName = '박' # 클래스의 변수, static => object 들이 공유\n",
    "    def __init__(self, name):\n",
    "        self.fullName = self.lastName + name\n",
    "\n",
    "    def setName(self, name):\n",
    "        self.fullName = self.lastName + name\n",
    "\n",
    "    def travel(self, where): # 누가(이름-> fullName), 어디로(where) 여행을 가다\n",
    "        print(f'{self.fullName}, {where} 여행을 가다')"
   ]
  },
  {
   "cell_type": "code",
   "execution_count": 27,
   "metadata": {},
   "outputs": [
    {
     "ename": "TypeError",
     "evalue": "HousePark.__init__() missing 1 required positional argument: 'name'",
     "output_type": "error",
     "traceback": [
      "\u001b[1;31m---------------------------------------------------------------------------\u001b[0m",
      "\u001b[1;31mTypeError\u001b[0m                                 Traceback (most recent call last)",
      "Cell \u001b[1;32mIn[27], line 1\u001b[0m\n\u001b[1;32m----> 1\u001b[0m a \u001b[39m=\u001b[39m HousePark()\n\u001b[0;32m      2\u001b[0m a\u001b[39m.\u001b[39msetName(\u001b[39m'\u001b[39m\u001b[39m길동\u001b[39m\u001b[39m'\u001b[39m)\n\u001b[0;32m      3\u001b[0m a\u001b[39m.\u001b[39mtravel(\u001b[39m'\u001b[39m\u001b[39m부산 \u001b[39m\u001b[39m'\u001b[39m)\n",
      "\u001b[1;31mTypeError\u001b[0m: HousePark.__init__() missing 1 required positional argument: 'name'"
     ]
    }
   ],
   "source": [
    "a = HousePark()\n",
    "a.setName('길동')\n",
    "a.travel('부산 ')\n",
    "\n",
    "b = HousePark()\n",
    "b.setName('둘리')\n",
    "a.fullName, b.fullName"
   ]
  },
  {
   "cell_type": "code",
   "execution_count": null,
   "metadata": {},
   "outputs": [],
   "source": [
    "######################### 이렇게도 가능\n",
    "class HousePark:\n",
    "    lastName = '박' \n",
    "        \n",
    "    def setName(self, name):\n",
    "        fullName = self.lastName + name     \n",
    "        return fullName\n",
    "    \n",
    "    def travel(self, where): # 누가(이름-> fullName), 어디로(where) 여행을 가다\n",
    "        print(f'{self.fullName}, {where} 여행을 가다')"
   ]
  },
  {
   "cell_type": "code",
   "execution_count": null,
   "metadata": {},
   "outputs": [
    {
     "name": "stdout",
     "output_type": "stream",
     "text": [
      "박길동, 부산  여행을 가다\n"
     ]
    }
   ],
   "source": [
    "a = HousePark()\n",
    "a.fullName = a.setName('길동')\n",
    "a.fullName\n",
    "a.travel('부산 ')"
   ]
  },
  {
   "cell_type": "code",
   "execution_count": null,
   "metadata": {},
   "outputs": [
    {
     "name": "stdout",
     "output_type": "stream",
     "text": [
      "박길동, 부산 여행을 가다\n"
     ]
    }
   ],
   "source": [
    "a = HousePark('길동')\n",
    "a.travel(where='부산')"
   ]
  },
  {
   "cell_type": "code",
   "execution_count": null,
   "metadata": {},
   "outputs": [],
   "source": [
    "class HouseKim:\n",
    "    lastName = '김' # 클래스의 변수, static => object 들이 공유\n",
    "    def __init__(self, name):\n",
    "        self.fullName = self.lastName + name\n",
    "\n",
    "    def setName(self, name):\n",
    "        self.fullName = self.lastName + name\n",
    "\n",
    "    def travel(self, where): # 누가(이름-> fullName), 어디로(where) 여행을 가다\n",
    "        print(f'{self.fullName}, {where} 여행을 가다')"
   ]
  },
  {
   "cell_type": "code",
   "execution_count": null,
   "metadata": {},
   "outputs": [],
   "source": [
    "class HousePark(HousePark):\n",
    "    lastName = '김'\n",
    "    # def __init__(self, name):\n",
    "    #     super().__init__(name)\n",
    "\n",
    "    def travel(self, where):\n",
    "        print(f'{self.fullName}은 {where}로 여행합니다.')"
   ]
  },
  {
   "cell_type": "code",
   "execution_count": null,
   "metadata": {},
   "outputs": [
    {
     "name": "stdout",
     "output_type": "stream",
     "text": [
      "김줄리엣, 독도 여행을 가다\n"
     ]
    }
   ],
   "source": [
    "a = HouseKim('줄리엣')\n",
    "# a.fullName\n",
    "a.travel('독도')\n",
    "# 김줄리엣, 독도 여행을 가다 <= HousePark"
   ]
  },
  {
   "cell_type": "code",
   "execution_count": null,
   "metadata": {},
   "outputs": [],
   "source": [
    "# 연산자 오버로딩\n",
    "# pey = HousePark('응용') => fullName = '박응용'\n",
    "# juliet = HouseKim('줄리엣') => fullName = '김줄리엣'\n",
    "# + 연산자 => 숫자 + 숫자 => 숫자, 문자열 + 문자열 => 연결\n",
    "# pey + juliet => 박응용, 김줄리엣 결혼했네\n",
    "# object "
   ]
  },
  {
   "cell_type": "code",
   "execution_count": null,
   "metadata": {},
   "outputs": [],
   "source": [
    "# 박씨네 집\n",
    "class HousePark:\n",
    "    lastName = '박' # 클래스의 변수, static => object 들이 공유\n",
    "    def __init__(self, name):\n",
    "        self.fullName = self.lastName + name\n",
    "\n",
    "    def setName(self, name):\n",
    "        self.fullName = self.lastName + name\n",
    "\n",
    "    def travel(self, where): # 누가(이름-> fullName), 어디로(where) 여행을 가다\n",
    "        print(f'{self.fullName}, {where} 여행을 가다')\n",
    "\n",
    "    def __add__(self, other):\n",
    "        print(f'{self.fullName}, {other.fullName} 결혼했네')\n",
    "\n",
    "    # __call__"
   ]
  },
  {
   "cell_type": "code",
   "execution_count": null,
   "metadata": {},
   "outputs": [],
   "source": [
    "park = HousePark('응용')\n",
    "juliet = HousePark('줄리엣')\n",
    "park + juliet"
   ]
  }
 ],
 "metadata": {
  "kernelspec": {
   "display_name": "test",
   "language": "python",
   "name": "python3"
  },
  "language_info": {
   "codemirror_mode": {
    "name": "ipython",
    "version": 3
   },
   "file_extension": ".py",
   "mimetype": "text/x-python",
   "name": "python",
   "nbconvert_exporter": "python",
   "pygments_lexer": "ipython3",
   "version": "3.10.10"
  },
  "orig_nbformat": 4
 },
 "nbformat": 4,
 "nbformat_minor": 2
}
