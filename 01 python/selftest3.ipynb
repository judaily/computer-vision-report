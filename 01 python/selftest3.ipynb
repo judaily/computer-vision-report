{
 "cells": [
  {
   "cell_type": "code",
   "execution_count": 7,
   "metadata": {},
   "outputs": [
    {
     "data": {
      "text/plain": [
       "1.2"
      ]
     },
     "execution_count": 7,
     "metadata": {},
     "output_type": "execute_result"
    }
   ],
   "source": [
    "abs(3)\n",
    "abs(-3)\n",
    "abs(-1.2)"
   ]
  },
  {
   "cell_type": "code",
   "execution_count": 8,
   "metadata": {},
   "outputs": [
    {
     "data": {
      "text/plain": [
       "'0'"
      ]
     },
     "execution_count": 8,
     "metadata": {},
     "output_type": "execute_result"
    }
   ],
   "source": [
    "all([1,2,3])\n",
    "all([1,2,3,0])\n",
    "any([1,2,3,0])\n",
    "any([0,\"\"])\n",
    "chr(97)\n",
    "chr(48)"
   ]
  },
  {
   "cell_type": "code",
   "execution_count": 9,
   "metadata": {},
   "outputs": [
    {
     "data": {
      "text/plain": [
       "(6.0, 0.09999999999999998)"
      ]
     },
     "execution_count": 9,
     "metadata": {},
     "output_type": "execute_result"
    }
   ],
   "source": [
    "dir([1,2,3])\n",
    "dir({'1':'a'})\n",
    "\n",
    "divmod(7,3)\n",
    "divmod(1.3,0.2)"
   ]
  },
  {
   "cell_type": "code",
   "execution_count": 10,
   "metadata": {},
   "outputs": [
    {
     "name": "stdout",
     "output_type": "stream",
     "text": [
      "0 body\n",
      "1 foo\n",
      "2 bar\n"
     ]
    },
    {
     "data": {
      "text/plain": [
       "(1, 1)"
      ]
     },
     "execution_count": 10,
     "metadata": {},
     "output_type": "execute_result"
    }
   ],
   "source": [
    "for i, name in enumerate(['body', 'foo', 'bar']):\n",
    "\tprint(i, name)\n",
    "\n",
    "eval('1+2')\n",
    "eval(\"'hi'+'a'\")\n",
    "eval('divmod(4,3)')"
   ]
  },
  {
   "cell_type": "code",
   "execution_count": 11,
   "metadata": {},
   "outputs": [
    {
     "name": "stdout",
     "output_type": "stream",
     "text": [
      "[1, 2, 6]\n",
      "[1, 2, 6]\n"
     ]
    }
   ],
   "source": [
    "#positive.py \n",
    "def positive(l): \n",
    "\tresult = [] \n",
    "\tfor i in l:\n",
    "\t\tif i > 0: \n",
    "\t\t\tresult.append(i) \n",
    "\treturn result\n",
    "print(positive([1,-3,2,0,-5,6]))\n",
    "\n",
    "#filter1.py\n",
    "def positive(x): \n",
    "\treturn x > 0\n",
    "print(list(filter(positive, [1, -3, 2, 0, -5, 6])))"
   ]
  },
  {
   "cell_type": "code",
   "execution_count": 12,
   "metadata": {},
   "outputs": [
    {
     "data": {
      "text/plain": [
       "2129261429072"
      ]
     },
     "execution_count": 12,
     "metadata": {},
     "output_type": "execute_result"
    }
   ],
   "source": [
    "hex(234)\n",
    "hex(3)\n",
    "\n",
    "a=3\n",
    "id(3)\n",
    "id(a)\n",
    "b=a\n",
    "id(b)\n",
    "id(4)"
   ]
  },
  {
   "cell_type": "code",
   "execution_count": 13,
   "metadata": {},
   "outputs": [
    {
     "data": {
      "text/plain": [
       "''"
      ]
     },
     "execution_count": 13,
     "metadata": {},
     "output_type": "execute_result"
    }
   ],
   "source": [
    "a=input()\n",
    "a\n",
    "b=input(\"Enter: \")\n",
    "b"
   ]
  },
  {
   "cell_type": "code",
   "execution_count": 25,
   "metadata": {},
   "outputs": [
    {
     "data": {
      "text/plain": [
       "26"
      ]
     },
     "execution_count": 25,
     "metadata": {},
     "output_type": "execute_result"
    }
   ],
   "source": [
    "int('3')\n",
    "int(3.4)\n",
    "int('11',2)\n",
    "int('1A',16)"
   ]
  },
  {
   "cell_type": "code",
   "execution_count": 28,
   "metadata": {},
   "outputs": [
    {
     "data": {
      "text/plain": [
       "True"
      ]
     },
     "execution_count": 28,
     "metadata": {},
     "output_type": "execute_result"
    }
   ],
   "source": [
    "class Person: pass\n",
    "a=Person()\n",
    "isinstance(a,Person)"
   ]
  },
  {
   "cell_type": "code",
   "execution_count": 27,
   "metadata": {},
   "outputs": [
    {
     "data": {
      "text/plain": [
       "False"
      ]
     },
     "execution_count": 27,
     "metadata": {},
     "output_type": "execute_result"
    }
   ],
   "source": [
    "b=3\n",
    "isinstance(b,Person)"
   ]
  },
  {
   "cell_type": "code",
   "execution_count": 15,
   "metadata": {},
   "outputs": [
    {
     "data": {
      "text/plain": [
       "12"
      ]
     },
     "execution_count": 15,
     "metadata": {},
     "output_type": "execute_result"
    }
   ],
   "source": [
    "sum = lambda a, b: a+b\n",
    "sum(3,4)\n",
    "\n",
    "def sum(a,b):\n",
    "\treturn a+b\n",
    "\n",
    "myList = [lambda a,b:a+b, lambda a,b:a*b]\n",
    "myList\n",
    "myList[0]\n",
    "myList[0](3,4)\n",
    "myList[1](3,4)"
   ]
  },
  {
   "cell_type": "code",
   "execution_count": 16,
   "metadata": {},
   "outputs": [
    {
     "data": {
      "text/plain": [
       "[1, 2, 3]"
      ]
     },
     "execution_count": 16,
     "metadata": {},
     "output_type": "execute_result"
    }
   ],
   "source": [
    "# 입력값 길이 리턴\n",
    "len(\"python\")\n",
    "len([1,2,3])\n",
    "len((1,'a'))\n",
    "\n",
    "list(\"python\")\n",
    "list((1,2,3))\n",
    "\n",
    "a=[1,2,3]\n",
    "b=list(a)\n",
    "b"
   ]
  },
  {
   "cell_type": "code",
   "execution_count": 17,
   "metadata": {},
   "outputs": [
    {
     "name": "stdout",
     "output_type": "stream",
     "text": [
      "[2, 4, 6, 8]\n"
     ]
    },
    {
     "data": {
      "text/plain": [
       "[2, 4, 6, 8]"
      ]
     },
     "execution_count": 17,
     "metadata": {},
     "output_type": "execute_result"
    }
   ],
   "source": [
    "# two_times.py\n",
    "def two_times(numberList): \n",
    "\tresult = [ ] \n",
    "\tfor number in numberList:\n",
    "\t\tresult.append(number*2) \n",
    "\treturn result\n",
    "\n",
    "result = two_times([1, 2, 3, 4])\n",
    "print(result)\n",
    "\n",
    "def two_times(x): return x*2\n",
    "list(map(two_times, [1, 2, 3, 4]))\n",
    "# =>\n",
    "list(map(lambda a: a*2, [1, 2, 3, 4]))"
   ]
  },
  {
   "cell_type": "code",
   "execution_count": 18,
   "metadata": {},
   "outputs": [
    {
     "name": "stdout",
     "output_type": "stream",
     "text": [
      "[2, 3, 4, 5, 6]\n"
     ]
    },
    {
     "data": {
      "text/plain": [
       "'h'"
      ]
     },
     "execution_count": 18,
     "metadata": {},
     "output_type": "execute_result"
    }
   ],
   "source": [
    "# map_test.py\n",
    "def plus_one(x): \n",
    "\treturn x+1\n",
    "print(list(map(plus_one, [1, 2, 3, 4, 5])))\n",
    "\n",
    "\n",
    "max([1,2,3])\n",
    "max(\"python\")\n",
    "\n",
    "min([1,2,3])\n",
    "min(\"python\")"
   ]
  },
  {
   "cell_type": "code",
   "execution_count": 23,
   "metadata": {},
   "outputs": [
    {
     "data": {
      "text/plain": [
       "'0o30071'"
      ]
     },
     "execution_count": 23,
     "metadata": {},
     "output_type": "execute_result"
    }
   ],
   "source": [
    "# 정수를 8진수 문자열로 변환해 리턴\n",
    "oct(34)\n",
    "oct(12345)\n",
    "\n",
    "# f = open(\"binary_file\",\"rb\")\n",
    "# fread = open(\"read_mode.txt\",'r')\n",
    "# fread2 = open(\"read_mode.txt\")\n",
    "# fappend = open(\"append_mode.txt\",'a')"
   ]
  },
  {
   "cell_type": "code",
   "execution_count": 20,
   "metadata": {},
   "outputs": [
    {
     "data": {
      "text/plain": [
       "27"
      ]
     },
     "execution_count": 20,
     "metadata": {},
     "output_type": "execute_result"
    }
   ],
   "source": [
    "#아스키코드 리턴\n",
    "ord('a')\n",
    "ord('0')\n",
    "\n",
    "# x, y의 제곱값 리턴\n",
    "pow(2,4)\n",
    "pow(3,3)"
   ]
  },
  {
   "cell_type": "code",
   "execution_count": 21,
   "metadata": {},
   "outputs": [
    {
     "name": "stdout",
     "output_type": "stream",
     "text": [
      "None\n",
      "[1, 2, 3]\n"
     ]
    }
   ],
   "source": [
    "# range([start], stop[step])은 for과 함께 자주 사용\n",
    "# 입력 숫자에 해당 범위 값을 반복 가능한 객체로 리턴\n",
    "# 인수 한개\n",
    "list(range(5))\n",
    "# 인수 두개\n",
    "list(range(5,10))\n",
    "# 인수 세개\n",
    "list(range(1,10,2))\n",
    "list(range(0,-10,-1))\n",
    "\n",
    "sorted([3,1,2])\n",
    "sorted(['a','b','c'])\n",
    "sorted(\"zero\")\n",
    "sorted((3,2,1))\n",
    "\n",
    "a = [3,1,2]\n",
    "result = a.sort()\n",
    "print(result)\n",
    "print(a)"
   ]
  },
  {
   "cell_type": "code",
   "execution_count": 29,
   "metadata": {},
   "outputs": [
    {
     "data": {
      "text/plain": [
       "[('a', 'd'), ('b', 'e'), ('c', 'f')]"
      ]
     },
     "execution_count": 29,
     "metadata": {},
     "output_type": "execute_result"
    }
   ],
   "source": [
    "str(3)\n",
    "str('hi')\n",
    "str('hi'.upper())\n",
    "\n",
    "tuple(\"abc\")\n",
    "tuple([1,2,3])\n",
    "tuple([1,2,3])\n",
    "\n",
    "type(\"abc\")\n",
    "type([])\n",
    "type(open(\"test\",'w'))\n",
    "\n",
    "list(zip([1,2,3],[4,5,6]))\n",
    "list(zip([1,2,3],[4,5,6],[7,8,9]))\n",
    "list(zip(\"abc\",\"def\"))"
   ]
  }
 ],
 "metadata": {
  "kernelspec": {
   "display_name": "test",
   "language": "python",
   "name": "python3"
  },
  "language_info": {
   "codemirror_mode": {
    "name": "ipython",
    "version": 3
   },
   "file_extension": ".py",
   "mimetype": "text/x-python",
   "name": "python",
   "nbconvert_exporter": "python",
   "pygments_lexer": "ipython3",
   "version": "3.10.10"
  },
  "orig_nbformat": 4
 },
 "nbformat": 4,
 "nbformat_minor": 2
}
