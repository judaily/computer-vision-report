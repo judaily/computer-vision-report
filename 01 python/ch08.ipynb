{
 "cells": [
  {
   "cell_type": "code",
   "execution_count": 1,
   "metadata": {},
   "outputs": [
    {
     "data": {
      "text/plain": [
       "False"
      ]
     },
     "execution_count": 1,
     "metadata": {},
     "output_type": "execute_result"
    }
   ],
   "source": [
    "a = ['a',None,'b'] # 결측치 =>\n",
    "# a = ['a',None(python), NAN(numpy), null(dataframe),'b'] # 결측치 => \n",
    "all(a)"
   ]
  },
  {
   "cell_type": "code",
   "execution_count": 3,
   "metadata": {},
   "outputs": [
    {
     "data": {
      "text/plain": [
       "[1, 2, 6]"
      ]
     },
     "execution_count": 3,
     "metadata": {},
     "output_type": "execute_result"
    }
   ],
   "source": [
    "# filter exam\n",
    "# 리스트에서 양수만 추출 => 리스트 반환\n",
    "# a = [1,-3,2,0,-5,6]\n",
    "# result = [1,2,6]\n",
    "def positive(lt): # lt = [1-,3,2,0,-5,6]\n",
    "    result = [] # 양수만 저장하는 빈 리스트\n",
    "    for num in lt:\n",
    "        if num > 0: # filter\n",
    "            result.append(num) # 양수만 저장\n",
    "    return result\n",
    "a = [1,-3,2,0,-5,6]\n",
    "positive(a)"
   ]
  },
  {
   "cell_type": "code",
   "execution_count": 5,
   "metadata": {},
   "outputs": [
    {
     "data": {
      "text/plain": [
       "[1, 2, 6]"
      ]
     },
     "execution_count": 5,
     "metadata": {},
     "output_type": "execute_result"
    }
   ],
   "source": [
    "# filter 적용, filter(func, iterable) [1,2,3] => 각각의 값들을 꺼내서 function에 준\n",
    "def positive(x): # x 는 단일값\n",
    "    return x > 0 # > 비교연산자 => True, False\n",
    "a = [1,-3,2,0,-5,6]\n",
    "list(filter(positive, a))"
   ]
  },
  {
   "cell_type": "code",
   "execution_count": 7,
   "metadata": {},
   "outputs": [
    {
     "data": {
      "text/plain": [
       "[1, 2, 6]"
      ]
     },
     "execution_count": 7,
     "metadata": {},
     "output_type": "execute_result"
    }
   ],
   "source": [
    "# lambda : 익명 함수 object 생성(new) => 일회용 함수\n",
    "# lambda parameter : return value <= 기본형식\n",
    "# def positive(x): # x 는 단일값\n",
    "#     return x > 0 \n",
    "list(filter(lambda x : x>0, a))"
   ]
  },
  {
   "cell_type": "code",
   "execution_count": 8,
   "metadata": {},
   "outputs": [
    {
     "data": {
      "text/plain": [
       "[1, 2, 3]"
      ]
     },
     "execution_count": 8,
     "metadata": {},
     "output_type": "execute_result"
    }
   ],
   "source": [
    "list((1,2,3))"
   ]
  },
  {
   "cell_type": "code",
   "execution_count": 9,
   "metadata": {},
   "outputs": [
    {
     "name": "stdout",
     "output_type": "stream",
     "text": [
      "[2, 4, 6]\n"
     ]
    }
   ],
   "source": [
    "a = [1,2,3]\n",
    "# result = [2,4,6], a * 2\n",
    "# 2 배 함수\n",
    "def two_times(numberList):\n",
    "    result = []\n",
    "    for number in numberList:\n",
    "        result.append(number*2)\n",
    "    return result\n",
    "\n",
    "result = two_times(a)\n",
    "print(result)"
   ]
  },
  {
   "cell_type": "code",
   "execution_count": 19,
   "metadata": {},
   "outputs": [
    {
     "data": {
      "text/plain": [
       "[2, 4, 6]"
      ]
     },
     "execution_count": 19,
     "metadata": {},
     "output_type": "execute_result"
    }
   ],
   "source": [
    "# map 사용\n",
    "def two_times(x) :\n",
    "    return x * 2\n",
    "\n",
    "list(map(two_times, a))"
   ]
  },
  {
   "cell_type": "code",
   "execution_count": 20,
   "metadata": {},
   "outputs": [
    {
     "data": {
      "text/plain": [
       "[2, 4, 6]"
      ]
     },
     "execution_count": 20,
     "metadata": {},
     "output_type": "execute_result"
    }
   ],
   "source": [
    "# map, lambda => x * 2\n",
    "list(map(lambda x : x*2, a))"
   ]
  },
  {
   "cell_type": "code",
   "execution_count": 23,
   "metadata": {},
   "outputs": [],
   "source": [
    "add = lambda a,b : a+b\n",
    "mul = lambda a,b : a*b\n",
    "\n",
    "def calc(func, a, b):\n",
    "    print(func(a,b))"
   ]
  },
  {
   "cell_type": "code",
   "execution_count": 24,
   "metadata": {},
   "outputs": [
    {
     "name": "stdout",
     "output_type": "stream",
     "text": [
      "3\n",
      "2\n"
     ]
    }
   ],
   "source": [
    "calc(add, 1,2)\n",
    "calc(mul, 1,2)"
   ]
  },
  {
   "cell_type": "code",
   "execution_count": 54,
   "metadata": {},
   "outputs": [],
   "source": [
    "import time\n",
    "add = lambda c : a + b\n",
    "mul = lambda a,b : a*b\n",
    "def calc(func, a,b):\n",
    "    start = time.time()\n",
    "    print('연산 시작') # 시작 시간 저장\n",
    "    for i in range(10000):\n",
    "        print(func(a,b))\n",
    "    print(func(a,b)) # 연산 시간이 많이 걸리는 연산 진행\n",
    "    print('연산 끝') # 끝 시간 저장\n",
    "    end = time.time()\n",
    "    print(f'걸리시간 {end-start}')"
   ]
  },
  {
   "cell_type": "code",
   "execution_count": null,
   "metadata": {},
   "outputs": [],
   "source": [
    "calc(mul, 1,2)"
   ]
  },
  {
   "cell_type": "code",
   "execution_count": 59,
   "metadata": {},
   "outputs": [
    {
     "data": {
      "text/plain": [
       "([1, 2, 3], [1, 2, 3], None)"
      ]
     },
     "execution_count": 59,
     "metadata": {},
     "output_type": "execute_result"
    }
   ],
   "source": [
    "a = [3,1,2]\n",
    "sorted(a), a, a.sort()"
   ]
  },
  {
   "cell_type": "code",
   "execution_count": 60,
   "metadata": {},
   "outputs": [
    {
     "data": {
      "text/plain": [
       "([1, 2, 3], None)"
      ]
     },
     "execution_count": 60,
     "metadata": {},
     "output_type": "execute_result"
    }
   ],
   "source": [
    "b = a.sort()\n",
    "a, b"
   ]
  },
  {
   "cell_type": "code",
   "execution_count": 63,
   "metadata": {},
   "outputs": [
    {
     "data": {
      "text/plain": [
       "[3, 2, 1]"
      ]
     },
     "execution_count": 63,
     "metadata": {},
     "output_type": "execute_result"
    }
   ],
   "source": [
    "a = [3,1,2]\n",
    "sorted(a)[::-1] # ascending\n",
    "# sorted(a) => ascending 결과 리스트 => 슬라이싱 [처음부터:끝까지:step]"
   ]
  }
 ],
 "metadata": {
  "kernelspec": {
   "display_name": "test",
   "language": "python",
   "name": "python3"
  },
  "language_info": {
   "codemirror_mode": {
    "name": "ipython",
    "version": 3
   },
   "file_extension": ".py",
   "mimetype": "text/x-python",
   "name": "python",
   "nbconvert_exporter": "python",
   "pygments_lexer": "ipython3",
   "version": "3.10.10"
  },
  "orig_nbformat": 4
 },
 "nbformat": 4,
 "nbformat_minor": 2
}
