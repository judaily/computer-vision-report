{
 "cells": [
  {
   "cell_type": "code",
   "execution_count": 82,
   "metadata": {},
   "outputs": [
    {
     "data": {
      "text/plain": [
       "['.\\\\ch04.ipynb',\n",
       " '.\\\\ch05.ipynb',\n",
       " '.\\\\ch06.ipynb',\n",
       " '.\\\\ch07.ipynb',\n",
       " '.\\\\ch08.ipynb',\n",
       " '.\\\\class_extend.ipynb',\n",
       " '.\\\\data.csv',\n",
       " '.\\\\foo.txt',\n",
       " '.\\\\game',\n",
       " '.\\\\mod1.py',\n",
       " '.\\\\modtest.py',\n",
       " '.\\\\modules',\n",
       " '.\\\\notetest.ipynb',\n",
       " '.\\\\selftest.ipynb',\n",
       " '.\\\\selftest2.ipynb',\n",
       " '.\\\\selftest3.ipynb',\n",
       " '.\\\\selftest4.ipynb',\n",
       " '.\\\\sysy1.py',\n",
       " '.\\\\tab.test.tsv',\n",
       " '.\\\\test',\n",
       " '.\\\\test.csv',\n",
       " '.\\\\vartest.py',\n",
       " '.\\\\__pycache__',\n",
       " '.\\\\새파일.txt']"
      ]
     },
     "execution_count": 82,
     "metadata": {},
     "output_type": "execute_result"
    }
   ],
   "source": [
    "import glob\n",
    "\n",
    "glob.glob('./*')"
   ]
  },
  {
   "cell_type": "code",
   "execution_count": 83,
   "metadata": {},
   "outputs": [
    {
     "name": "stdout",
     "output_type": "stream",
     "text": [
      ".\\ch04.ipynb\n",
      ".\\ch05.ipynb\n",
      ".\\ch06.ipynb\n",
      ".\\ch07.ipynb\n",
      ".\\ch08.ipynb\n",
      ".\\class_extend.ipynb\n",
      ".\\data.csv\n",
      ".\\foo.txt\n",
      ".\\game\n",
      ".\\mod1.py\n",
      ".\\modtest.py\n",
      ".\\modules\n",
      ".\\notetest.ipynb\n",
      ".\\selftest.ipynb\n",
      ".\\selftest2.ipynb\n",
      ".\\selftest3.ipynb\n",
      ".\\selftest4.ipynb\n",
      ".\\sysy1.py\n",
      ".\\tab.test.tsv\n",
      ".\\test\n",
      ".\\test.csv\n",
      ".\\vartest.py\n",
      ".\\__pycache__\n",
      ".\\새파일.txt\n"
     ]
    }
   ],
   "source": [
    "import glob\n",
    "\n",
    "flist = glob.glob('./*')\n",
    "for li in flist:\n",
    "    print(li)\n",
    "    # open()"
   ]
  },
  {
   "cell_type": "code",
   "execution_count": 84,
   "metadata": {},
   "outputs": [
    {
     "data": {
      "text/plain": [
       "1681801109.1133175"
      ]
     },
     "execution_count": 84,
     "metadata": {},
     "output_type": "execute_result"
    }
   ],
   "source": [
    "import time\n",
    "time.time()"
   ]
  },
  {
   "cell_type": "code",
   "execution_count": 85,
   "metadata": {},
   "outputs": [
    {
     "data": {
      "text/plain": [
       "time.struct_time(tm_year=2023, tm_mon=4, tm_mday=18, tm_hour=15, tm_min=58, tm_sec=29, tm_wday=1, tm_yday=108, tm_isdst=0)"
      ]
     },
     "execution_count": 85,
     "metadata": {},
     "output_type": "execute_result"
    }
   ],
   "source": [
    "# time.localtime(time.time()) X\n",
    "t = time.localtime() # 현재 시간 추출해서 변환\n",
    "time.localtime()"
   ]
  },
  {
   "cell_type": "code",
   "execution_count": 86,
   "metadata": {},
   "outputs": [
    {
     "data": {
      "text/plain": [
       "time.struct_time"
      ]
     },
     "execution_count": 86,
     "metadata": {},
     "output_type": "execute_result"
    }
   ],
   "source": [
    "type(t)"
   ]
  },
  {
   "cell_type": "code",
   "execution_count": 87,
   "metadata": {},
   "outputs": [
    {
     "data": {
      "text/plain": [
       "(2023, 4, 18)"
      ]
     },
     "execution_count": 87,
     "metadata": {},
     "output_type": "execute_result"
    }
   ],
   "source": [
    "t.tm_year, t.tm_mon, t.tm_mday"
   ]
  },
  {
   "cell_type": "code",
   "execution_count": 88,
   "metadata": {},
   "outputs": [
    {
     "data": {
      "text/plain": [
       "datetime.datetime(2023, 4, 18, 15, 58, 29, 286644)"
      ]
     },
     "execution_count": 88,
     "metadata": {},
     "output_type": "execute_result"
    }
   ],
   "source": [
    "import datetime as dt\n",
    "# package.module.function\n",
    "a = dt.datetime.now()\n",
    "a"
   ]
  },
  {
   "cell_type": "code",
   "execution_count": 89,
   "metadata": {},
   "outputs": [
    {
     "data": {
      "text/plain": [
       "(2023, 4, 18, 15, 58, 29)"
      ]
     },
     "execution_count": 89,
     "metadata": {},
     "output_type": "execute_result"
    }
   ],
   "source": [
    "a.year, a.month, a.day, a.hour, a.minute, a.second"
   ]
  },
  {
   "cell_type": "code",
   "execution_count": 90,
   "metadata": {},
   "outputs": [
    {
     "data": {
      "text/plain": [
       "'108'"
      ]
     },
     "execution_count": 90,
     "metadata": {},
     "output_type": "execute_result"
    }
   ],
   "source": [
    "# time.strftime()\n",
    "# time.strftime('%Y',time.localtime())\n",
    "# time.strftime('%x',time.localtime())\n",
    "# time.strftime('%w',time.localtime())\n",
    "time.strftime('%j',time.localtime())"
   ]
  },
  {
   "cell_type": "code",
   "execution_count": 91,
   "metadata": {},
   "outputs": [
    {
     "data": {
      "text/plain": [
       "datetime.datetime(2023, 4, 18, 15, 58, 29, 393420)"
      ]
     },
     "execution_count": 91,
     "metadata": {},
     "output_type": "execute_result"
    }
   ],
   "source": [
    "#import datetime\n",
    "#ct = datetime.datetime.now()\n",
    "#         패키지   모듈\n",
    "\n",
    "import datetime as dt\n",
    "ct = dt.datetime.now()\n",
    "ct\n",
    "\n",
    "# => datetime.datetime(2023, 4, 18, 14, 30, 28, 678894)\n",
    "#      모듈    클래스"
   ]
  },
  {
   "cell_type": "code",
   "execution_count": 92,
   "metadata": {},
   "outputs": [
    {
     "data": {
      "text/plain": [
       "['__add__',\n",
       " '__class__',\n",
       " '__delattr__',\n",
       " '__dir__',\n",
       " '__doc__',\n",
       " '__eq__',\n",
       " '__format__',\n",
       " '__ge__',\n",
       " '__getattribute__',\n",
       " '__gt__',\n",
       " '__hash__',\n",
       " '__init__',\n",
       " '__init_subclass__',\n",
       " '__le__',\n",
       " '__lt__',\n",
       " '__ne__',\n",
       " '__new__',\n",
       " '__radd__',\n",
       " '__reduce__',\n",
       " '__reduce_ex__',\n",
       " '__repr__',\n",
       " '__rsub__',\n",
       " '__setattr__',\n",
       " '__sizeof__',\n",
       " '__str__',\n",
       " '__sub__',\n",
       " '__subclasshook__',\n",
       " 'astimezone',\n",
       " 'combine',\n",
       " 'ctime',\n",
       " 'date',\n",
       " 'day',\n",
       " 'dst',\n",
       " 'fold',\n",
       " 'fromisocalendar',\n",
       " 'fromisoformat',\n",
       " 'fromordinal',\n",
       " 'fromtimestamp',\n",
       " 'hour',\n",
       " 'isocalendar',\n",
       " 'isoformat',\n",
       " 'isoweekday',\n",
       " 'max',\n",
       " 'microsecond',\n",
       " 'min',\n",
       " 'minute',\n",
       " 'month',\n",
       " 'now',\n",
       " 'replace',\n",
       " 'resolution',\n",
       " 'second',\n",
       " 'strftime',\n",
       " 'strptime',\n",
       " 'time',\n",
       " 'timestamp',\n",
       " 'timetuple',\n",
       " 'timetz',\n",
       " 'today',\n",
       " 'toordinal',\n",
       " 'tzinfo',\n",
       " 'tzname',\n",
       " 'utcfromtimestamp',\n",
       " 'utcnow',\n",
       " 'utcoffset',\n",
       " 'utctimetuple',\n",
       " 'weekday',\n",
       " 'year']"
      ]
     },
     "execution_count": 92,
     "metadata": {},
     "output_type": "execute_result"
    }
   ],
   "source": [
    "dir(ct)"
   ]
  },
  {
   "cell_type": "code",
   "execution_count": 93,
   "metadata": {},
   "outputs": [
    {
     "data": {
      "text/plain": [
       "1"
      ]
     },
     "execution_count": 93,
     "metadata": {},
     "output_type": "execute_result"
    }
   ],
   "source": [
    "# 요일 출력 : 월요일부터 시작\n",
    "ct.weekday()"
   ]
  },
  {
   "cell_type": "code",
   "execution_count": 94,
   "metadata": {},
   "outputs": [
    {
     "name": "stdout",
     "output_type": "stream",
     "text": [
      "1\n",
      "2023-04-18\n",
      "15:58:29.393420\n"
     ]
    }
   ],
   "source": [
    "print(ct.weekday()) # 요일만 출력, 숫자로\n",
    "print(ct.date()) # 날짜만 출력\n",
    "print(ct.time()) # 시간만 출력"
   ]
  },
  {
   "cell_type": "code",
   "execution_count": 95,
   "metadata": {},
   "outputs": [],
   "source": [
    "# ct.strftime('형식') # 멤버 메소드\n",
    "# 형식 : %Y(연도4자리), %m(월2자리), %d(2자리일), %H(24시간), %M(분), %S(초)"
   ]
  },
  {
   "cell_type": "code",
   "execution_count": 96,
   "metadata": {},
   "outputs": [
    {
     "data": {
      "text/plain": [
       "'2023-04-18 15:58:29'"
      ]
     },
     "execution_count": 96,
     "metadata": {},
     "output_type": "execute_result"
    }
   ],
   "source": [
    "ct.strftime('%Y-%m-%d %H:%M:%S')"
   ]
  },
  {
   "cell_type": "code",
   "execution_count": 97,
   "metadata": {},
   "outputs": [
    {
     "name": "stdout",
     "output_type": "stream",
     "text": [
      "1\n",
      "2\n",
      "3\n",
      "4\n",
      "5\n",
      "6\n",
      "7\n",
      "8\n",
      "9\n",
      "10\n"
     ]
    }
   ],
   "source": [
    "import time\n",
    "for num in range(1,11):\n",
    "    print(num)\n",
    "    time.sleep(1) # 1초"
   ]
  },
  {
   "cell_type": "code",
   "execution_count": 98,
   "metadata": {},
   "outputs": [
    {
     "name": "stdout",
     "output_type": "stream",
     "text": [
      "      May 2023\n",
      "Mo Tu We Th Fr Sa Su\n",
      " 1  2  3  4  5  6  7\n",
      " 8  9 10 11 12 13 14\n",
      "15 16 17 18 19 20 21\n",
      "22 23 24 25 26 27 28\n",
      "29 30 31\n",
      "None\n"
     ]
    }
   ],
   "source": [
    "import calendar\n",
    "# print(calendar.calendar(2023))\n",
    "print(calendar.prmonth(2023,5))"
   ]
  },
  {
   "cell_type": "code",
   "execution_count": 99,
   "metadata": {},
   "outputs": [
    {
     "data": {
      "text/plain": [
       "4"
      ]
     },
     "execution_count": 99,
     "metadata": {},
     "output_type": "execute_result"
    }
   ],
   "source": [
    "calendar.weekday(2023,5,5)"
   ]
  },
  {
   "cell_type": "code",
   "execution_count": 100,
   "metadata": {},
   "outputs": [
    {
     "data": {
      "text/plain": [
       "(5, 30)"
      ]
     },
     "execution_count": 100,
     "metadata": {},
     "output_type": "execute_result"
    }
   ],
   "source": [
    "calendar.monthrange(2023,4)"
   ]
  },
  {
   "cell_type": "code",
   "execution_count": 101,
   "metadata": {},
   "outputs": [],
   "source": [
    "# time.asctime(t)\n",
    "# time.ctime()"
   ]
  },
  {
   "cell_type": "code",
   "execution_count": 105,
   "metadata": {},
   "outputs": [
    {
     "data": {
      "text/plain": [
       "0.20484479201107486"
      ]
     },
     "execution_count": 105,
     "metadata": {},
     "output_type": "execute_result"
    }
   ],
   "source": [
    "import random as r\n",
    "# 0과 1사이에 실수를 랜덤하게 추출\n",
    "r.random()"
   ]
  },
  {
   "cell_type": "code",
   "execution_count": 106,
   "metadata": {},
   "outputs": [
    {
     "data": {
      "text/plain": [
       "24"
      ]
     },
     "execution_count": 106,
     "metadata": {},
     "output_type": "execute_result"
    }
   ],
   "source": [
    "# randint(a,b) : a~b 사이의 정수를 랜덤하게 추출\n",
    "r.randint(1,45)"
   ]
  },
  {
   "cell_type": "code",
   "execution_count": 115,
   "metadata": {},
   "outputs": [],
   "source": [
    "# 비복원 추출\n",
    "import random\n",
    "\n",
    "def random_pop(dataList):\n",
    "    idx = random.randint(0,len(dataList)-1)\n",
    "    return dataList.pop(idx)"
   ]
  },
  {
   "cell_type": "code",
   "execution_count": 118,
   "metadata": {},
   "outputs": [
    {
     "name": "stdout",
     "output_type": "stream",
     "text": [
      "[1, 2, 3, 4, 5]\n",
      "3\n",
      "[1, 2, 4, 5]\n",
      "2\n",
      "[1, 4, 5]\n",
      "5\n",
      "[1, 4]\n",
      "4\n",
      "[1]\n",
      "1\n"
     ]
    }
   ],
   "source": [
    "data = [1,2,3,4,5]\n",
    "while data:\n",
    "    print(data)\n",
    "    print(random_pop(data))"
   ]
  },
  {
   "cell_type": "code",
   "execution_count": 117,
   "metadata": {},
   "outputs": [
    {
     "data": {
      "text/plain": [
       "[]"
      ]
     },
     "execution_count": 117,
     "metadata": {},
     "output_type": "execute_result"
    }
   ],
   "source": [
    "data"
   ]
  },
  {
   "cell_type": "code",
   "execution_count": 114,
   "metadata": {},
   "outputs": [
    {
     "name": "stdout",
     "output_type": "stream",
     "text": [
      "5\n"
     ]
    },
    {
     "data": {
      "text/plain": [
       "(3, 2, 4)"
      ]
     },
     "execution_count": 114,
     "metadata": {},
     "output_type": "execute_result"
    }
   ],
   "source": [
    "# data = [1,2,4,5]\n",
    "print(len(data))\n",
    "idx = random.randint(0,len(data)-1)\n",
    "# data[idx], idx\n",
    "data.pop(idx), idx, len(data)"
   ]
  },
  {
   "cell_type": "code",
   "execution_count": 131,
   "metadata": {},
   "outputs": [
    {
     "data": {
      "text/plain": [
       "[2, 44, 39, 13, 31, 36]"
      ]
     },
     "execution_count": 131,
     "metadata": {},
     "output_type": "execute_result"
    }
   ],
   "source": [
    "# choice() function : 선택\n",
    "# dataList = [1,2,3,4,5]\n",
    "def random_pop(dataList):\n",
    "    number = random.choice(dataList) # 복원추출\n",
    "    data.remove(number) # 삭제 => 비복원\n",
    "    return number\n",
    "\n",
    "data = list(range(1,46))\n",
    "result = []\n",
    "while data:\n",
    "    result.append(random_pop(data))\n",
    "\n",
    "result[:6]"
   ]
  },
  {
   "cell_type": "code",
   "execution_count": 144,
   "metadata": {},
   "outputs": [
    {
     "name": "stdout",
     "output_type": "stream",
     "text": [
      "3\n",
      "[5, 9, 2, 4, 4, 5]\n",
      "[2, 9, 1, 6, 4, 3]\n"
     ]
    }
   ],
   "source": [
    "# random.seed(42)\n",
    "lotto = range(1,10)\n",
    "print(random.choice(lotto)) # 단일값 복원 추출\n",
    "print(random.choices(lotto, k=6)) # 복원 추출\n",
    "print(random.sample(lotto, k=6)) # 비복원 추출"
   ]
  },
  {
   "cell_type": "code",
   "execution_count": 145,
   "metadata": {},
   "outputs": [
    {
     "data": {
      "text/plain": [
       "True"
      ]
     },
     "execution_count": 145,
     "metadata": {},
     "output_type": "execute_result"
    }
   ],
   "source": [
    "import webbrowser as web\n",
    "web.open(\"http://www.naver.com\")"
   ]
  },
  {
   "cell_type": "code",
   "execution_count": null,
   "metadata": {},
   "outputs": [],
   "source": [
    "import threading\n",
    "import time\n",
    "\n",
    "def say(msg):\n",
    "    while True:\n",
    "        time.sleep(1)\n",
    "        print(msg)\n",
    "# thread 3개 생성, 시작\n",
    "for msg in ['you','need','python']:\n",
    "    t = threading.Thread(target=say, args=(msg,))\n",
    "    t.daemon = True\n",
    "    t.start()\n",
    "\n",
    "for i in range(100):\n",
    "    time.sleep(0.1)\n",
    "    print(i)"
   ]
  },
  {
   "cell_type": "code",
   "execution_count": 3,
   "metadata": {},
   "outputs": [
    {
     "name": "stdout",
     "output_type": "stream",
     "text": [
      "['python one']\n"
     ]
    }
   ],
   "source": [
    "# Multeline option\n",
    "import re\n",
    "# ^ : 시작하고, \\s : 공백, 탭, 다음줄, \\w : 알파벳 숫자 => [a-zA-Z0-9] \n",
    "# python 시작하고 공백 알파벳숫자 1개이상 매칭\n",
    "p = re.compile(\"^python\\s\\w+\")\n",
    "data = \"\"\"python one\n",
    "life is too short\n",
    "python two\n",
    "you need python\n",
    "python three\"\"\"\n",
    "print(p.findall(data))"
   ]
  },
  {
   "cell_type": "code",
   "execution_count": 4,
   "metadata": {},
   "outputs": [
    {
     "name": "stdout",
     "output_type": "stream",
     "text": [
      "['python one', 'python two', 'python three']\n"
     ]
    }
   ],
   "source": [
    "import re\n",
    "p = re.compile(\"^python\\s\\w+\", re.MULTILINE)\n",
    "\n",
    "data = \"\"\"python one\n",
    "life is too short\n",
    "python two\n",
    "you need python\n",
    "python three\"\"\"\n",
    "print(p.findall(data))"
   ]
  },
  {
   "cell_type": "code",
   "execution_count": 21,
   "metadata": {},
   "outputs": [
    {
     "data": {
      "text/plain": [
       "'010'"
      ]
     },
     "execution_count": 21,
     "metadata": {},
     "output_type": "execute_result"
    }
   ],
   "source": [
    "#      알파벳숫자1개이상\n",
    "pat = '(\\w+)\\s+((\\d+)[-]\\d+[-]\\d+)'\n",
    "data = 'park 010-1234-1234' \n",
    "p = re.compile(pat)\n",
    "m = p.search(data)\n",
    "# m.group(1) + ' ' + m.group(2)\n",
    "m.group(3)"
   ]
  },
  {
   "cell_type": "code",
   "execution_count": 23,
   "metadata": {},
   "outputs": [
    {
     "data": {
      "text/plain": [
       "'the the'"
      ]
     },
     "execution_count": 23,
     "metadata": {},
     "output_type": "execute_result"
    }
   ],
   "source": [
    "p = re.compile(r'(\\b\\w+)\\s+\\1')\n",
    "p.search('Paris in the the spring').group() "
   ]
  },
  {
   "cell_type": "code",
   "execution_count": null,
   "metadata": {},
   "outputs": [],
   "source": []
  }
 ],
 "metadata": {
  "kernelspec": {
   "display_name": "test",
   "language": "python",
   "name": "python3"
  },
  "language_info": {
   "codemirror_mode": {
    "name": "ipython",
    "version": 3
   },
   "file_extension": ".py",
   "mimetype": "text/x-python",
   "name": "python",
   "nbconvert_exporter": "python",
   "pygments_lexer": "ipython3",
   "version": "3.10.10"
  },
  "orig_nbformat": 4
 },
 "nbformat": 4,
 "nbformat_minor": 2
}
