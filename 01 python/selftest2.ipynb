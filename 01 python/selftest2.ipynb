{
 "cells": [
  {
   "cell_type": "code",
   "execution_count": 235,
   "metadata": {},
   "outputs": [
    {
     "name": "stdout",
     "output_type": "stream",
     "text": [
      "영구는 외계인이다.\n",
      "영구는 외계인이다.\n",
      "영구는 도깨비이다.\n"
     ]
    }
   ],
   "source": [
    "class Service:\n",
    "    secret = \"영구는 외계인이다.\"\n",
    "pey = Service()\n",
    "print(pey.secret)\n",
    "print(Service.secret)\n",
    "\n",
    "Service.secret = \"영구는 도깨비이다.\"\n",
    "print(pey.secret)"
   ]
  },
  {
   "cell_type": "code",
   "execution_count": 236,
   "metadata": {},
   "outputs": [
    {
     "name": "stdout",
     "output_type": "stream",
     "text": [
      "1 + 1 = 2입니다.\n",
      "None\n",
      "1 + 1 = 2입니다.\n",
      "None\n"
     ]
    }
   ],
   "source": [
    "class Service:\n",
    "    def sum(self, a, b): # 더하기 서비스\n",
    "        result = a + b\n",
    "        print(\"%s + %s = %s입니다.\"% (a, b, result))\n",
    "pey = Service()\n",
    "print(pey.sum(1, 1))\n",
    "print(Service.sum(pey, 1, 1))"
   ]
  },
  {
   "cell_type": "code",
   "execution_count": 237,
   "metadata": {},
   "outputs": [
    {
     "name": "stdout",
     "output_type": "stream",
     "text": [
      "홍길동님1 + 1 = 2입니다.\n",
      "김철수\n",
      "박응용\n"
     ]
    }
   ],
   "source": [
    "class Service:\n",
    "    def setname(self, name):\n",
    "        self.name = name\n",
    "    def sum(self, a, b):\n",
    "        result = a + b\n",
    "        print(\"%s님%s + %s = %s입니다.\"% (self.name, a, b, result))\n",
    "pey = Service()\n",
    "pey.setname(\"홍길동\")\n",
    "pey.sum(1, 1)\n",
    "\n",
    "kim = Service()\n",
    "park = Service()\n",
    "kim.name = \"김철수\"\n",
    "park.name = \"박응용\"\n",
    "print(kim.name)\n",
    "print(park.name)"
   ]
  },
  {
   "cell_type": "code",
   "execution_count": 238,
   "metadata": {},
   "outputs": [
    {
     "name": "stdout",
     "output_type": "stream",
     "text": [
      "6\n",
      "8\n",
      "2\n",
      "2.0\n",
      "10\n",
      "21\n",
      "-4\n",
      "0.42857142857142855\n"
     ]
    }
   ],
   "source": [
    "class FourCal:\n",
    "    def setdata(self, first, second):\n",
    "        self.first = first\n",
    "        self.second = second\n",
    "    def sum(self):\n",
    "        result = self.first + self.second\n",
    "        return result\n",
    "    def mul(self):\n",
    "        result = self.first * self.second\n",
    "        return result\n",
    "    def sub(self):\n",
    "        result = self.first - self.second\n",
    "        return result\n",
    "    def div(self):\n",
    "        result = self.first / self.second\n",
    "        return result\n",
    "    \n",
    "a = FourCal()\n",
    "b = FourCal()\n",
    "a.setdata(4, 2)\n",
    "b.setdata(3, 7)\n",
    "print(a.sum())\n",
    "print(a.mul())\n",
    "print(a.sub())\n",
    "print(a.div())\n",
    "print(b.sum())\n",
    "print(b.mul())\n",
    "print(b.sub())\n",
    "print(b.div())"
   ]
  },
  {
   "cell_type": "code",
   "execution_count": 241,
   "metadata": {},
   "outputs": [
    {
     "name": "stdout",
     "output_type": "stream",
     "text": [
      "박응용, 독도여행을 가다.\n",
      "김줄리엣은독도로 여행합니다.\n",
      "박응용, 김줄리엣 결혼했네\n",
      "박응용, 김줄리엣 헤어졌네\n"
     ]
    }
   ],
   "source": [
    "# house.py\n",
    "class HousePark: \n",
    "    lastname = \"박\" \n",
    "    def __init__(self, name): \n",
    "        self.fullname = self.lastname + name \n",
    "    def travel(self, where): \n",
    "        print(\"%s, %s여행을 가다.\"% (self.fullname, where)) \n",
    "    def __add__(self, other): \n",
    "        print(\"%s, %s 결혼했네\"% (self.fullname, other.fullname))\n",
    "    def __sub__(self, other): \n",
    "        print(\"%s, %s 헤어졌네\"% (self.fullname, other.fullname))\n",
    "        \n",
    "class HouseKim(HousePark): \n",
    "    lastname = \"김\" \n",
    "    def travel(self, where): \n",
    "        print(\"%s은%s로 여행합니다.\"% (self.fullname, where))\n",
    "\n",
    "pey = HousePark(\"응용\")\n",
    "juliet = HouseKim(\"줄리엣\")\n",
    "pey.travel(\"독도\")\n",
    "juliet.travel(\"독도\")\n",
    "pey + juliet\n",
    "pey - juliet"
   ]
  }
 ],
 "metadata": {
  "kernelspec": {
   "display_name": "test",
   "language": "python",
   "name": "python3"
  },
  "language_info": {
   "codemirror_mode": {
    "name": "ipython",
    "version": 3
   },
   "file_extension": ".py",
   "mimetype": "text/x-python",
   "name": "python",
   "nbconvert_exporter": "python",
   "pygments_lexer": "ipython3",
   "version": "3.10.10"
  },
  "orig_nbformat": 4
 },
 "nbformat": 4,
 "nbformat_minor": 2
}
