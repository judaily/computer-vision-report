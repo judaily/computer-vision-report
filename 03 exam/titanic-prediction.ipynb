{
 "cells": [
  {
   "cell_type": "code",
   "execution_count": 22,
   "id": "9e4c1c09",
   "metadata": {},
   "outputs": [],
   "source": [
    "import numpy as np\n",
    "import pandas as pd\n",
    "import re\n",
    "import warnings #Used in order to ignore the warnings messages showed through the notebook\n",
    "warnings.filterwarnings('ignore') #Setting to ignore the warnings"
   ]
  },
  {
   "cell_type": "code",
   "execution_count": 23,
   "id": "f009b652",
   "metadata": {},
   "outputs": [],
   "source": [
    "import os\n",
    "for dirname, _, filenames in os.walk('/kaggle/input'):\n",
    "    for filename in filenames:\n",
    "        print(os.path.join(dirname, filename))"
   ]
  },
  {
   "cell_type": "code",
   "execution_count": 24,
   "id": "600bccf4",
   "metadata": {},
   "outputs": [],
   "source": [
    "test_data = pd.read_csv('./solution/test.csv')"
   ]
  },
  {
   "cell_type": "code",
   "execution_count": 25,
   "id": "6d062c2a",
   "metadata": {
    "execution": {
     "iopub.execute_input": "2022-10-14T09:22:24.751142Z",
     "iopub.status.busy": "2022-10-14T09:22:24.750300Z",
     "iopub.status.idle": "2022-10-14T09:22:24.784336Z",
     "shell.execute_reply": "2022-10-14T09:22:24.783516Z"
    },
    "papermill": {
     "duration": 0.039806,
     "end_time": "2022-10-14T09:22:24.786447",
     "exception": false,
     "start_time": "2022-10-14T09:22:24.746641",
     "status": "completed"
    },
    "tags": []
   },
   "outputs": [],
   "source": [
    "test_data_with_labels = pd.read_csv('./solution/titanic_with_labels.csv')"
   ]
  },
  {
   "cell_type": "code",
   "execution_count": 26,
   "id": "4d76f671",
   "metadata": {
    "execution": {
     "iopub.execute_input": "2022-10-14T09:22:24.793657Z",
     "iopub.status.busy": "2022-10-14T09:22:24.793065Z",
     "iopub.status.idle": "2022-10-14T09:22:24.812350Z",
     "shell.execute_reply": "2022-10-14T09:22:24.811286Z"
    },
    "papermill": {
     "duration": 0.025539,
     "end_time": "2022-10-14T09:22:24.814972",
     "exception": false,
     "start_time": "2022-10-14T09:22:24.789433",
     "status": "completed"
    },
    "tags": []
   },
   "outputs": [
    {
     "data": {
      "text/html": [
       "<div>\n",
       "<style scoped>\n",
       "    .dataframe tbody tr th:only-of-type {\n",
       "        vertical-align: middle;\n",
       "    }\n",
       "\n",
       "    .dataframe tbody tr th {\n",
       "        vertical-align: top;\n",
       "    }\n",
       "\n",
       "    .dataframe thead th {\n",
       "        text-align: right;\n",
       "    }\n",
       "</style>\n",
       "<table border=\"1\" class=\"dataframe\">\n",
       "  <thead>\n",
       "    <tr style=\"text-align: right;\">\n",
       "      <th></th>\n",
       "      <th>PassengerId</th>\n",
       "      <th>Pclass</th>\n",
       "      <th>Name</th>\n",
       "      <th>Sex</th>\n",
       "      <th>Age</th>\n",
       "      <th>SibSp</th>\n",
       "      <th>Parch</th>\n",
       "      <th>Ticket</th>\n",
       "      <th>Fare</th>\n",
       "      <th>Cabin</th>\n",
       "      <th>Embarked</th>\n",
       "    </tr>\n",
       "  </thead>\n",
       "  <tbody>\n",
       "    <tr>\n",
       "      <th>0</th>\n",
       "      <td>892</td>\n",
       "      <td>3</td>\n",
       "      <td>Kelly, Mr. James</td>\n",
       "      <td>male</td>\n",
       "      <td>34.5</td>\n",
       "      <td>0</td>\n",
       "      <td>0</td>\n",
       "      <td>330911</td>\n",
       "      <td>7.8292</td>\n",
       "      <td>NaN</td>\n",
       "      <td>Q</td>\n",
       "    </tr>\n",
       "    <tr>\n",
       "      <th>1</th>\n",
       "      <td>893</td>\n",
       "      <td>3</td>\n",
       "      <td>Wilkes, Mrs. James (Ellen Needs)</td>\n",
       "      <td>female</td>\n",
       "      <td>47.0</td>\n",
       "      <td>1</td>\n",
       "      <td>0</td>\n",
       "      <td>363272</td>\n",
       "      <td>7.0000</td>\n",
       "      <td>NaN</td>\n",
       "      <td>S</td>\n",
       "    </tr>\n",
       "    <tr>\n",
       "      <th>2</th>\n",
       "      <td>894</td>\n",
       "      <td>2</td>\n",
       "      <td>Myles, Mr. Thomas Francis</td>\n",
       "      <td>male</td>\n",
       "      <td>62.0</td>\n",
       "      <td>0</td>\n",
       "      <td>0</td>\n",
       "      <td>240276</td>\n",
       "      <td>9.6875</td>\n",
       "      <td>NaN</td>\n",
       "      <td>Q</td>\n",
       "    </tr>\n",
       "    <tr>\n",
       "      <th>3</th>\n",
       "      <td>895</td>\n",
       "      <td>3</td>\n",
       "      <td>Wirz, Mr. Albert</td>\n",
       "      <td>male</td>\n",
       "      <td>27.0</td>\n",
       "      <td>0</td>\n",
       "      <td>0</td>\n",
       "      <td>315154</td>\n",
       "      <td>8.6625</td>\n",
       "      <td>NaN</td>\n",
       "      <td>S</td>\n",
       "    </tr>\n",
       "    <tr>\n",
       "      <th>4</th>\n",
       "      <td>896</td>\n",
       "      <td>3</td>\n",
       "      <td>Hirvonen, Mrs. Alexander (Helga E Lindqvist)</td>\n",
       "      <td>female</td>\n",
       "      <td>22.0</td>\n",
       "      <td>1</td>\n",
       "      <td>1</td>\n",
       "      <td>3101298</td>\n",
       "      <td>12.2875</td>\n",
       "      <td>NaN</td>\n",
       "      <td>S</td>\n",
       "    </tr>\n",
       "  </tbody>\n",
       "</table>\n",
       "</div>"
      ],
      "text/plain": [
       "   PassengerId  Pclass                                          Name     Sex   \n",
       "0          892       3                              Kelly, Mr. James    male  \\\n",
       "1          893       3              Wilkes, Mrs. James (Ellen Needs)  female   \n",
       "2          894       2                     Myles, Mr. Thomas Francis    male   \n",
       "3          895       3                              Wirz, Mr. Albert    male   \n",
       "4          896       3  Hirvonen, Mrs. Alexander (Helga E Lindqvist)  female   \n",
       "\n",
       "    Age  SibSp  Parch   Ticket     Fare Cabin Embarked  \n",
       "0  34.5      0      0   330911   7.8292   NaN        Q  \n",
       "1  47.0      1      0   363272   7.0000   NaN        S  \n",
       "2  62.0      0      0   240276   9.6875   NaN        Q  \n",
       "3  27.0      0      0   315154   8.6625   NaN        S  \n",
       "4  22.0      1      1  3101298  12.2875   NaN        S  "
      ]
     },
     "execution_count": 26,
     "metadata": {},
     "output_type": "execute_result"
    }
   ],
   "source": [
    "test_data.head()"
   ]
  },
  {
   "cell_type": "code",
   "execution_count": 27,
   "id": "db3cbb7f",
   "metadata": {
    "execution": {
     "iopub.execute_input": "2022-10-14T09:22:24.822552Z",
     "iopub.status.busy": "2022-10-14T09:22:24.822295Z",
     "iopub.status.idle": "2022-10-14T09:22:24.830233Z",
     "shell.execute_reply": "2022-10-14T09:22:24.829295Z"
    },
    "papermill": {
     "duration": 0.013632,
     "end_time": "2022-10-14T09:22:24.832084",
     "exception": false,
     "start_time": "2022-10-14T09:22:24.818452",
     "status": "completed"
    },
    "tags": []
   },
   "outputs": [
    {
     "data": {
      "text/plain": [
       "418"
      ]
     },
     "execution_count": 27,
     "metadata": {},
     "output_type": "execute_result"
    }
   ],
   "source": [
    "len(test_data['PassengerId'])"
   ]
  },
  {
   "cell_type": "code",
   "execution_count": 28,
   "id": "745af1ff",
   "metadata": {
    "execution": {
     "iopub.execute_input": "2022-10-14T09:22:24.840188Z",
     "iopub.status.busy": "2022-10-14T09:22:24.839389Z",
     "iopub.status.idle": "2022-10-14T09:22:24.855365Z",
     "shell.execute_reply": "2022-10-14T09:22:24.854388Z"
    },
    "papermill": {
     "duration": 0.022099,
     "end_time": "2022-10-14T09:22:24.857465",
     "exception": false,
     "start_time": "2022-10-14T09:22:24.835366",
     "status": "completed"
    },
    "tags": []
   },
   "outputs": [
    {
     "data": {
      "text/html": [
       "<div>\n",
       "<style scoped>\n",
       "    .dataframe tbody tr th:only-of-type {\n",
       "        vertical-align: middle;\n",
       "    }\n",
       "\n",
       "    .dataframe tbody tr th {\n",
       "        vertical-align: top;\n",
       "    }\n",
       "\n",
       "    .dataframe thead th {\n",
       "        text-align: right;\n",
       "    }\n",
       "</style>\n",
       "<table border=\"1\" class=\"dataframe\">\n",
       "  <thead>\n",
       "    <tr style=\"text-align: right;\">\n",
       "      <th></th>\n",
       "      <th>pclass</th>\n",
       "      <th>survived</th>\n",
       "      <th>name</th>\n",
       "      <th>sex</th>\n",
       "      <th>age</th>\n",
       "      <th>sibsp</th>\n",
       "      <th>parch</th>\n",
       "      <th>ticket</th>\n",
       "      <th>fare</th>\n",
       "      <th>cabin</th>\n",
       "      <th>embarked</th>\n",
       "      <th>boat</th>\n",
       "      <th>body</th>\n",
       "      <th>home.dest</th>\n",
       "    </tr>\n",
       "  </thead>\n",
       "  <tbody>\n",
       "    <tr>\n",
       "      <th>0</th>\n",
       "      <td>1</td>\n",
       "      <td>1</td>\n",
       "      <td>Allen, Miss. Elisabeth Walton</td>\n",
       "      <td>female</td>\n",
       "      <td>29.00</td>\n",
       "      <td>0</td>\n",
       "      <td>0</td>\n",
       "      <td>24160</td>\n",
       "      <td>211.3375</td>\n",
       "      <td>B5</td>\n",
       "      <td>S</td>\n",
       "      <td>2</td>\n",
       "      <td>NaN</td>\n",
       "      <td>St Louis, MO</td>\n",
       "    </tr>\n",
       "    <tr>\n",
       "      <th>1</th>\n",
       "      <td>1</td>\n",
       "      <td>1</td>\n",
       "      <td>Allison, Master. Hudson Trevor</td>\n",
       "      <td>male</td>\n",
       "      <td>0.92</td>\n",
       "      <td>1</td>\n",
       "      <td>2</td>\n",
       "      <td>113781</td>\n",
       "      <td>151.5500</td>\n",
       "      <td>C22 C26</td>\n",
       "      <td>S</td>\n",
       "      <td>11</td>\n",
       "      <td>NaN</td>\n",
       "      <td>Montreal, PQ / Chesterville, ON</td>\n",
       "    </tr>\n",
       "    <tr>\n",
       "      <th>2</th>\n",
       "      <td>1</td>\n",
       "      <td>0</td>\n",
       "      <td>Allison, Miss. Helen Loraine</td>\n",
       "      <td>female</td>\n",
       "      <td>2.00</td>\n",
       "      <td>1</td>\n",
       "      <td>2</td>\n",
       "      <td>113781</td>\n",
       "      <td>151.5500</td>\n",
       "      <td>C22 C26</td>\n",
       "      <td>S</td>\n",
       "      <td>NaN</td>\n",
       "      <td>NaN</td>\n",
       "      <td>Montreal, PQ / Chesterville, ON</td>\n",
       "    </tr>\n",
       "    <tr>\n",
       "      <th>3</th>\n",
       "      <td>1</td>\n",
       "      <td>0</td>\n",
       "      <td>Allison, Mr. Hudson Joshua Creighton</td>\n",
       "      <td>male</td>\n",
       "      <td>30.00</td>\n",
       "      <td>1</td>\n",
       "      <td>2</td>\n",
       "      <td>113781</td>\n",
       "      <td>151.5500</td>\n",
       "      <td>C22 C26</td>\n",
       "      <td>S</td>\n",
       "      <td>NaN</td>\n",
       "      <td>135.0</td>\n",
       "      <td>Montreal, PQ / Chesterville, ON</td>\n",
       "    </tr>\n",
       "    <tr>\n",
       "      <th>4</th>\n",
       "      <td>1</td>\n",
       "      <td>0</td>\n",
       "      <td>Allison, Mrs. Hudson J C (Bessie Waldo Daniels)</td>\n",
       "      <td>female</td>\n",
       "      <td>25.00</td>\n",
       "      <td>1</td>\n",
       "      <td>2</td>\n",
       "      <td>113781</td>\n",
       "      <td>151.5500</td>\n",
       "      <td>C22 C26</td>\n",
       "      <td>S</td>\n",
       "      <td>NaN</td>\n",
       "      <td>NaN</td>\n",
       "      <td>Montreal, PQ / Chesterville, ON</td>\n",
       "    </tr>\n",
       "  </tbody>\n",
       "</table>\n",
       "</div>"
      ],
      "text/plain": [
       "   pclass  survived                                             name     sex   \n",
       "0       1         1                    Allen, Miss. Elisabeth Walton  female  \\\n",
       "1       1         1                   Allison, Master. Hudson Trevor    male   \n",
       "2       1         0                     Allison, Miss. Helen Loraine  female   \n",
       "3       1         0             Allison, Mr. Hudson Joshua Creighton    male   \n",
       "4       1         0  Allison, Mrs. Hudson J C (Bessie Waldo Daniels)  female   \n",
       "\n",
       "     age  sibsp  parch  ticket      fare    cabin embarked boat   body   \n",
       "0  29.00      0      0   24160  211.3375       B5        S    2    NaN  \\\n",
       "1   0.92      1      2  113781  151.5500  C22 C26        S   11    NaN   \n",
       "2   2.00      1      2  113781  151.5500  C22 C26        S  NaN    NaN   \n",
       "3  30.00      1      2  113781  151.5500  C22 C26        S  NaN  135.0   \n",
       "4  25.00      1      2  113781  151.5500  C22 C26        S  NaN    NaN   \n",
       "\n",
       "                         home.dest  \n",
       "0                     St Louis, MO  \n",
       "1  Montreal, PQ / Chesterville, ON  \n",
       "2  Montreal, PQ / Chesterville, ON  \n",
       "3  Montreal, PQ / Chesterville, ON  \n",
       "4  Montreal, PQ / Chesterville, ON  "
      ]
     },
     "execution_count": 28,
     "metadata": {},
     "output_type": "execute_result"
    }
   ],
   "source": [
    "test_data_with_labels.head()"
   ]
  },
  {
   "cell_type": "code",
   "execution_count": 29,
   "id": "6f383eea",
   "metadata": {
    "execution": {
     "iopub.execute_input": "2022-10-14T09:22:24.865981Z",
     "iopub.status.busy": "2022-10-14T09:22:24.865688Z",
     "iopub.status.idle": "2022-10-14T09:22:24.899071Z",
     "shell.execute_reply": "2022-10-14T09:22:24.898206Z"
    },
    "papermill": {
     "duration": 0.04,
     "end_time": "2022-10-14T09:22:24.901089",
     "exception": false,
     "start_time": "2022-10-14T09:22:24.861089",
     "status": "completed"
    },
    "tags": []
   },
   "outputs": [],
   "source": [
    "for i, name in enumerate(test_data_with_labels['name']):\n",
    "    if '\"' in name:\n",
    "        test_data_with_labels['name'][i] = re.sub('\"', '', name)\n",
    "        \n",
    "for i, name in enumerate(test_data['Name']):\n",
    "    if '\"' in name:\n",
    "        test_data['Name'][i] = re.sub('\"', '', name)"
   ]
  },
  {
   "cell_type": "code",
   "execution_count": 30,
   "id": "a9cb5719",
   "metadata": {
    "execution": {
     "iopub.execute_input": "2022-10-14T09:22:24.909232Z",
     "iopub.status.busy": "2022-10-14T09:22:24.908623Z",
     "iopub.status.idle": "2022-10-14T09:22:25.109507Z",
     "shell.execute_reply": "2022-10-14T09:22:25.108682Z"
    },
    "papermill": {
     "duration": 0.206936,
     "end_time": "2022-10-14T09:22:25.111428",
     "exception": false,
     "start_time": "2022-10-14T09:22:24.904492",
     "status": "completed"
    },
    "tags": []
   },
   "outputs": [],
   "source": [
    "survived = []\n",
    "for name in test_data['Name']:\n",
    "    survived.append(int(test_data_with_labels.loc[test_data_with_labels['name'] == \n",
    "                                                  name]['survived'].values[-1]))"
   ]
  },
  {
   "cell_type": "code",
   "execution_count": 31,
   "id": "7479f3cb",
   "metadata": {
    "execution": {
     "iopub.execute_input": "2022-10-14T09:22:25.119247Z",
     "iopub.status.busy": "2022-10-14T09:22:25.118970Z",
     "iopub.status.idle": "2022-10-14T09:22:25.125690Z",
     "shell.execute_reply": "2022-10-14T09:22:25.124758Z"
    },
    "papermill": {
     "duration": 0.012904,
     "end_time": "2022-10-14T09:22:25.127703",
     "exception": false,
     "start_time": "2022-10-14T09:22:25.114799",
     "status": "completed"
    },
    "tags": []
   },
   "outputs": [
    {
     "data": {
      "text/plain": [
       "[0, 1, 0, 0, 1, 1, 0, 1, 1, 0]"
      ]
     },
     "execution_count": 31,
     "metadata": {},
     "output_type": "execute_result"
    }
   ],
   "source": [
    "survived[:10]"
   ]
  },
  {
   "cell_type": "code",
   "execution_count": 32,
   "id": "fa0490cc",
   "metadata": {
    "execution": {
     "iopub.execute_input": "2022-10-14T09:22:25.136363Z",
     "iopub.status.busy": "2022-10-14T09:22:25.135582Z",
     "iopub.status.idle": "2022-10-14T09:22:25.141606Z",
     "shell.execute_reply": "2022-10-14T09:22:25.140620Z"
    },
    "papermill": {
     "duration": 0.012403,
     "end_time": "2022-10-14T09:22:25.143643",
     "exception": false,
     "start_time": "2022-10-14T09:22:25.131240",
     "status": "completed"
    },
    "tags": []
   },
   "outputs": [
    {
     "data": {
      "text/plain": [
       "418"
      ]
     },
     "execution_count": 32,
     "metadata": {},
     "output_type": "execute_result"
    }
   ],
   "source": [
    "len(survived)"
   ]
  },
  {
   "cell_type": "code",
   "execution_count": 33,
   "id": "c9068115",
   "metadata": {
    "execution": {
     "iopub.execute_input": "2022-10-14T09:22:25.151852Z",
     "iopub.status.busy": "2022-10-14T09:22:25.151603Z",
     "iopub.status.idle": "2022-10-14T09:22:25.160191Z",
     "shell.execute_reply": "2022-10-14T09:22:25.159404Z"
    },
    "papermill": {
     "duration": 0.014943,
     "end_time": "2022-10-14T09:22:25.162235",
     "exception": false,
     "start_time": "2022-10-14T09:22:25.147292",
     "status": "completed"
    },
    "tags": []
   },
   "outputs": [],
   "source": [
    "submission = pd.read_csv('./solution/gender_submission.csv')\n",
    "submission['Survived'] = survived"
   ]
  },
  {
   "cell_type": "code",
   "execution_count": 34,
   "id": "6c4a46bf",
   "metadata": {
    "execution": {
     "iopub.execute_input": "2022-10-14T09:22:25.170748Z",
     "iopub.status.busy": "2022-10-14T09:22:25.170486Z",
     "iopub.status.idle": "2022-10-14T09:22:25.179753Z",
     "shell.execute_reply": "2022-10-14T09:22:25.178945Z"
    },
    "papermill": {
     "duration": 0.015844,
     "end_time": "2022-10-14T09:22:25.181681",
     "exception": false,
     "start_time": "2022-10-14T09:22:25.165837",
     "status": "completed"
    },
    "tags": []
   },
   "outputs": [
    {
     "data": {
      "text/html": [
       "<div>\n",
       "<style scoped>\n",
       "    .dataframe tbody tr th:only-of-type {\n",
       "        vertical-align: middle;\n",
       "    }\n",
       "\n",
       "    .dataframe tbody tr th {\n",
       "        vertical-align: top;\n",
       "    }\n",
       "\n",
       "    .dataframe thead th {\n",
       "        text-align: right;\n",
       "    }\n",
       "</style>\n",
       "<table border=\"1\" class=\"dataframe\">\n",
       "  <thead>\n",
       "    <tr style=\"text-align: right;\">\n",
       "      <th></th>\n",
       "      <th>PassengerId</th>\n",
       "      <th>Survived</th>\n",
       "    </tr>\n",
       "  </thead>\n",
       "  <tbody>\n",
       "    <tr>\n",
       "      <th>0</th>\n",
       "      <td>892</td>\n",
       "      <td>0</td>\n",
       "    </tr>\n",
       "    <tr>\n",
       "      <th>1</th>\n",
       "      <td>893</td>\n",
       "      <td>1</td>\n",
       "    </tr>\n",
       "    <tr>\n",
       "      <th>2</th>\n",
       "      <td>894</td>\n",
       "      <td>0</td>\n",
       "    </tr>\n",
       "    <tr>\n",
       "      <th>3</th>\n",
       "      <td>895</td>\n",
       "      <td>0</td>\n",
       "    </tr>\n",
       "    <tr>\n",
       "      <th>4</th>\n",
       "      <td>896</td>\n",
       "      <td>1</td>\n",
       "    </tr>\n",
       "    <tr>\n",
       "      <th>5</th>\n",
       "      <td>897</td>\n",
       "      <td>1</td>\n",
       "    </tr>\n",
       "    <tr>\n",
       "      <th>6</th>\n",
       "      <td>898</td>\n",
       "      <td>0</td>\n",
       "    </tr>\n",
       "    <tr>\n",
       "      <th>7</th>\n",
       "      <td>899</td>\n",
       "      <td>1</td>\n",
       "    </tr>\n",
       "    <tr>\n",
       "      <th>8</th>\n",
       "      <td>900</td>\n",
       "      <td>1</td>\n",
       "    </tr>\n",
       "    <tr>\n",
       "      <th>9</th>\n",
       "      <td>901</td>\n",
       "      <td>0</td>\n",
       "    </tr>\n",
       "  </tbody>\n",
       "</table>\n",
       "</div>"
      ],
      "text/plain": [
       "   PassengerId  Survived\n",
       "0          892         0\n",
       "1          893         1\n",
       "2          894         0\n",
       "3          895         0\n",
       "4          896         1\n",
       "5          897         1\n",
       "6          898         0\n",
       "7          899         1\n",
       "8          900         1\n",
       "9          901         0"
      ]
     },
     "execution_count": 34,
     "metadata": {},
     "output_type": "execute_result"
    }
   ],
   "source": [
    "submission.head(10)"
   ]
  },
  {
   "cell_type": "code",
   "execution_count": 35,
   "id": "7a9c1ade",
   "metadata": {
    "execution": {
     "iopub.execute_input": "2022-10-14T09:22:25.191217Z",
     "iopub.status.busy": "2022-10-14T09:22:25.190401Z",
     "iopub.status.idle": "2022-10-14T09:22:25.197132Z",
     "shell.execute_reply": "2022-10-14T09:22:25.196338Z"
    },
    "papermill": {
     "duration": 0.01362,
     "end_time": "2022-10-14T09:22:25.199075",
     "exception": false,
     "start_time": "2022-10-14T09:22:25.185455",
     "status": "completed"
    },
    "tags": []
   },
   "outputs": [],
   "source": [
    "submission.to_csv('submissionsolution.csv', index=False)"
   ]
  }
 ],
 "metadata": {
  "kernelspec": {
   "display_name": "Python 3",
   "language": "python",
   "name": "python3"
  },
  "language_info": {
   "codemirror_mode": {
    "name": "ipython",
    "version": 3
   },
   "file_extension": ".py",
   "mimetype": "text/x-python",
   "name": "python",
   "nbconvert_exporter": "python",
   "pygments_lexer": "ipython3",
   "version": "3.10.10"
  },
  "papermill": {
   "default_parameters": {},
   "duration": 8.456265,
   "end_time": "2022-10-14T09:22:25.622214",
   "environment_variables": {},
   "exception": null,
   "input_path": "__notebook__.ipynb",
   "output_path": "__notebook__.ipynb",
   "parameters": {},
   "start_time": "2022-10-14T09:22:17.165949",
   "version": "2.3.4"
  }
 },
 "nbformat": 4,
 "nbformat_minor": 5
}
