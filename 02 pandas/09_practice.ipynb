{
 "cells": [
  {
   "cell_type": "code",
   "execution_count": 166,
   "metadata": {},
   "outputs": [
    {
     "name": "stdout",
     "output_type": "stream",
     "text": [
      "gra\n",
      "g\n",
      "a\n",
      "a\n",
      "scratc\n",
      "scratc\n",
      "---------------\n",
      "gra\n",
      "scratch\n",
      "asrth\n",
      "a scratch\n"
     ]
    }
   ],
   "source": [
    "word='grail'\n",
    "sent='a scratch'\n",
    "print(word[0:3])\n",
    "print(word[0:1])\n",
    "print(sent[-9:-8])\n",
    "print(sent[0:-8])\n",
    "print(sent[2:-1])\n",
    "print(sent[-7:-1])\n",
    "print('---------------')\n",
    "print(word[ :3])\n",
    "print(sent[2: ])\n",
    "print(sent[::2])\n",
    "print(sent[ : ])"
   ]
  },
  {
   "cell_type": "code",
   "execution_count": 160,
   "metadata": {},
   "outputs": [
    {
     "name": "stdout",
     "output_type": "stream",
     "text": [
      "40°/46'/52.837\"/N\n"
     ]
    }
   ],
   "source": [
    "# join method\n",
    "d1 = '40°'\n",
    "m1 = \"46'\"\n",
    "s1 = '52.837\"'\n",
    "u1 = 'N'\n",
    "\n",
    "# 한문자열로\n",
    "# cords=' '.join([d1,m1,s1,u1])\n",
    "# cords=','.join([d1,m1,s1,u1])\n",
    "cords='/'.join([d1,m1,s1,u1])\n",
    "print(cords)"
   ]
  },
  {
   "cell_type": "code",
   "execution_count": 168,
   "metadata": {},
   "outputs": [
    {
     "name": "stdout",
     "output_type": "stream",
     "text": [
      "Guard:What?Ridden on a horse?\n",
      "King Arthur:Yes!\n",
      "Guard:You're using coconuts!\n",
      "King Arthur:What?\n",
      "Guard:You've got ... coconut[s] and you're bangin' 'em together. \n",
      "\n"
     ]
    }
   ],
   "source": [
    "multi_str=\"\"\"Guard:What?Ridden on a horse?\n",
    "King Arthur:Yes!\n",
    "Guard:You're using coconuts!\n",
    "King Arthur:What?\n",
    "Guard:You've got ... coconut[s] and you're bangin' 'em together. \n",
    "\"\"\"\n",
    "print(multi_str)"
   ]
  },
  {
   "cell_type": "code",
   "execution_count": 169,
   "metadata": {},
   "outputs": [
    {
     "data": {
      "text/plain": [
       "['Guard:What?Ridden on a horse?',\n",
       " 'King Arthur:Yes!',\n",
       " \"Guard:You're using coconuts!\",\n",
       " 'King Arthur:What?',\n",
       " \"Guard:You've got ... coconut[s] and you're bangin' 'em together. \"]"
      ]
     },
     "execution_count": 169,
     "metadata": {},
     "output_type": "execute_result"
    }
   ],
   "source": [
    "multi_str.splitlines()"
   ]
  },
  {
   "cell_type": "code",
   "execution_count": 178,
   "metadata": {},
   "outputs": [
    {
     "data": {
      "text/plain": [
       "['Guard:What?Ridden on a horse?',\n",
       " \"Guard:You're using coconuts!\",\n",
       " \"Guard:You've got ... coconut[s] and you're bangin' 'em together. \"]"
      ]
     },
     "execution_count": 178,
     "metadata": {},
     "output_type": "execute_result"
    }
   ],
   "source": [
    "multi_str.splitlines()[::2]"
   ]
  },
  {
   "cell_type": "code",
   "execution_count": 170,
   "metadata": {},
   "outputs": [
    {
     "data": {
      "text/plain": [
       "['Guard:What?Ridden on a horse?',\n",
       " \"Guard:You're using coconuts!\",\n",
       " \"Guard:You've got ... coconut[s] and you're bangin' 'em together. \"]"
      ]
     },
     "execution_count": 170,
     "metadata": {},
     "output_type": "execute_result"
    }
   ],
   "source": [
    "multi_str_split[::2]"
   ]
  },
  {
   "cell_type": "code",
   "execution_count": 180,
   "metadata": {},
   "outputs": [
    {
     "data": {
      "text/plain": [
       "['Guard:What?Ridden on a horse?',\n",
       " \"Guard:You're using coconuts!\",\n",
       " \"Guard:You've got ... coconut[s] and you're bangin' 'em together. \"]"
      ]
     },
     "execution_count": 180,
     "metadata": {},
     "output_type": "execute_result"
    }
   ],
   "source": [
    "multi_str.replace(\"Guard: \", \"\").splitlines()[::2]"
   ]
  },
  {
   "cell_type": "code",
   "execution_count": 120,
   "metadata": {},
   "outputs": [
    {
     "name": "stdout",
     "output_type": "stream",
     "text": [
      "It's just a flesh wound!\n",
      "It's just a scratch!\n"
     ]
    }
   ],
   "source": [
    "var = 'flesh wound'\n",
    "s = \"It's just a {}!\"\n",
    "print(s.format(var))\n",
    "print(s.format('scratch'))"
   ]
  },
  {
   "cell_type": "code",
   "execution_count": 185,
   "metadata": {},
   "outputs": [
    {
     "name": "stdout",
     "output_type": "stream",
     "text": [
      "Black Knight: 'Tis but a scratch.\n",
      "King Arthur: A scratch? Your arm's off!\n",
      "\n"
     ]
    }
   ],
   "source": [
    "s=\"\"\"Black Knight: 'Tis but a {0}.\n",
    "King Arthur: A {0}? Your arm's off!\n",
    "\"\"\"\n",
    "print(s.format('scratch'))"
   ]
  },
  {
   "cell_type": "code",
   "execution_count": 122,
   "metadata": {},
   "outputs": [
    {
     "name": "stdout",
     "output_type": "stream",
     "text": [
      "Hayden Planetarium Coordinates: 40.7815° N, 73.9733° W\n"
     ]
    }
   ],
   "source": [
    "s='Hayden Planetarium Coordinates: {lat}, {lon}'\n",
    "print(s.format(lat='40.7815° N', lon='73.9733° W'))"
   ]
  },
  {
   "cell_type": "code",
   "execution_count": 123,
   "metadata": {},
   "outputs": [
    {
     "name": "stdout",
     "output_type": "stream",
     "text": [
      "Some digits of pi: 3.14159265359\n"
     ]
    }
   ],
   "source": [
    "print('Some digits of pi: {}'.format(3.14159265359))"
   ]
  },
  {
   "cell_type": "code",
   "execution_count": 124,
   "metadata": {},
   "outputs": [
    {
     "name": "stdout",
     "output_type": "stream",
     "text": [
      "In 2005, Lu Chao of China recited 67,890 digits of pi\n"
     ]
    }
   ],
   "source": [
    "print(\"In 2005, Lu Chao of China recited {:,} digits of pi\".format(67890))"
   ]
  },
  {
   "cell_type": "code",
   "execution_count": 125,
   "metadata": {},
   "outputs": [
    {
     "name": "stdout",
     "output_type": "stream",
     "text": [
      "I remember 0.0001031 or 0.010311% of what Lu Chao recited\n"
     ]
    }
   ],
   "source": [
    "#                   *100\n",
    "print(\"I remember {0:.4} or {0:4%} of what Lu Chao recited\".format(7/67890))"
   ]
  },
  {
   "cell_type": "code",
   "execution_count": 126,
   "metadata": {},
   "outputs": [
    {
     "name": "stdout",
     "output_type": "stream",
     "text": [
      "I remember 0.00010310796877301516 or 0.010311% of what Lu Chao recited\n"
     ]
    }
   ],
   "source": [
    "print(\"I remember {0:4} or {0:4%} of what Lu Chao recited\".format(7/67890))"
   ]
  },
  {
   "cell_type": "code",
   "execution_count": 175,
   "metadata": {},
   "outputs": [
    {
     "name": "stdout",
     "output_type": "stream",
     "text": [
      "My ID number is 000042\n"
     ]
    }
   ],
   "source": [
    "print(\"My ID number is {0:06d}\".format(42))"
   ]
  },
  {
   "cell_type": "code",
   "execution_count": 128,
   "metadata": {},
   "outputs": [
    {
     "name": "stdout",
     "output_type": "stream",
     "text": [
      "I only know 7 digits of pi\n"
     ]
    }
   ],
   "source": [
    "s = 'I only know %d digits of pi' % 7\n",
    "print(s)"
   ]
  },
  {
   "cell_type": "code",
   "execution_count": 129,
   "metadata": {},
   "outputs": [
    {
     "name": "stdout",
     "output_type": "stream",
     "text": [
      "Some digits of e: 2.72\n"
     ]
    }
   ],
   "source": [
    "print('Some digits of %(cont)s: %(value).2f' % {'cont': 'e','value': 2.718})\n"
   ]
  },
  {
   "cell_type": "code",
   "execution_count": 130,
   "metadata": {},
   "outputs": [
    {
     "name": "stdout",
     "output_type": "stream",
     "text": [
      "It's just a flesh wound!\n",
      "Hayden Planetarium Coordinates: 40.7815°N, 73.9733°W\n"
     ]
    }
   ],
   "source": [
    "var = 'flesh wound'\n",
    "s = f\"It's just a {var}!\"\n",
    "print(s)\n",
    "\n",
    "lat='40.7815°N'\n",
    "lon='73.9733°W'\n",
    "s=f'Hayden Planetarium Coordinates: {lat}, {lon}'\n",
    "print(s)"
   ]
  },
  {
   "cell_type": "code",
   "execution_count": 131,
   "metadata": {},
   "outputs": [],
   "source": [
    "# m = re.search('[0-9]{4}', test)\n",
    "# print(m.gourp())"
   ]
  },
  {
   "cell_type": "code",
   "execution_count": null,
   "metadata": {},
   "outputs": [],
   "source": []
  },
  {
   "cell_type": "code",
   "execution_count": 177,
   "metadata": {},
   "outputs": [
    {
     "name": "stdout",
     "output_type": "stream",
     "text": [
      "<re.Match object; span=(0, 10), match='1234567890'>\n",
      "<class 're.Match'>\n",
      "True\n",
      "match\n",
      "----------------\n",
      "0\n",
      "10\n",
      "(0, 10)\n",
      "1234567890\n"
     ]
    }
   ],
   "source": [
    "# 정규식 처리\n",
    "import re\n",
    "tele_num = '1234567890'\n",
    "\n",
    "m = re.match(pattern='\\d\\d\\d\\d\\d\\d\\d\\d\\d\\d', string=tele_num) \n",
    "print(m)\n",
    "print(type(m))\n",
    "print(bool(m))\n",
    "\n",
    "if m:\n",
    "    print('match') \n",
    "else:\n",
    "    print('no match')\n",
    "\n",
    "print('----------------')\n",
    "print(m.start())\n",
    "print(m.end())\n",
    "print(m.span())\n",
    "print(m.group())"
   ]
  },
  {
   "cell_type": "code",
   "execution_count": 152,
   "metadata": {},
   "outputs": [
    {
     "name": "stdout",
     "output_type": "stream",
     "text": [
      "None\n",
      "no match\n"
     ]
    }
   ],
   "source": [
    "tele_num_spaces = '123 456 7890'\n",
    "m = re.match(pattern='\\d{10}', string=tele_num_spaces) \n",
    "print(m)\n",
    "if m:\n",
    "    print('match') \n",
    "else:\n",
    "    print('no match')"
   ]
  },
  {
   "cell_type": "code",
   "execution_count": 153,
   "metadata": {},
   "outputs": [
    {
     "name": "stdout",
     "output_type": "stream",
     "text": [
      "<re.Match object; span=(0, 12), match='123 456 7890'>\n"
     ]
    }
   ],
   "source": [
    "p = '\\d{3}\\s?\\d{3}\\s?\\d{4}' \n",
    "m = re.match(pattern=p, string=tele_num_spaces) \n",
    "print(m)"
   ]
  },
  {
   "cell_type": "code",
   "execution_count": 154,
   "metadata": {},
   "outputs": [
    {
     "name": "stdout",
     "output_type": "stream",
     "text": [
      "<re.Match object; span=(0, 14), match='(123) 456-7890'>\n"
     ]
    }
   ],
   "source": [
    "tele_num_space_paren_dash = '(123) 456-7890' \n",
    "p = '\\(?\\d{3}\\)?\\s?\\d{3}\\s?-?\\d{4}' \n",
    "m = re.match(pattern=p, string=tele_num_space_paren_dash) \n",
    "print(m)"
   ]
  },
  {
   "cell_type": "code",
   "execution_count": 155,
   "metadata": {},
   "outputs": [
    {
     "name": "stdout",
     "output_type": "stream",
     "text": [
      "<re.Match object; span=(0, 17), match='+1 (123) 456-7890'>\n"
     ]
    }
   ],
   "source": [
    "cnty_tele_num_space_paren_dash = '+1 (123) 456-7890' \n",
    "p = '\\+?1\\s?\\(?\\d{3}\\)?\\s?\\d{3}\\s?-?\\d{4}' \n",
    "m = re.match(pattern=p, string=cnty_tele_num_space_paren_dash) \n",
    "print(m)"
   ]
  },
  {
   "cell_type": "code",
   "execution_count": 156,
   "metadata": {},
   "outputs": [
    {
     "name": "stdout",
     "output_type": "stream",
     "text": [
      "<re.Match object; span=(0, 10), match='1234567890'>\n"
     ]
    }
   ],
   "source": [
    "p = re.compile('\\d{10}') \n",
    "s = '1234567890' \n",
    "m = p.match(s) \n",
    "print(m)"
   ]
  }
 ],
 "metadata": {
  "kernelspec": {
   "display_name": "pandas_dev",
   "language": "python",
   "name": "python3"
  },
  "language_info": {
   "codemirror_mode": {
    "name": "ipython",
    "version": 3
   },
   "file_extension": ".py",
   "mimetype": "text/x-python",
   "name": "python",
   "nbconvert_exporter": "python",
   "pygments_lexer": "ipython3",
   "version": "3.10.10"
  },
  "orig_nbformat": 4
 },
 "nbformat": 4,
 "nbformat_minor": 2
}
